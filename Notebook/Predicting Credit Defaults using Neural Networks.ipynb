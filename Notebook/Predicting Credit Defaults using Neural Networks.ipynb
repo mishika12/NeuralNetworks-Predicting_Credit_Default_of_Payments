{
 "cells": [
  {
   "cell_type": "markdown",
   "metadata": {
    "id": "95TrKOZf_gub"
   },
   "source": [
    "## <center> Predicting Credit Defaults using Neural Networks\n"
   ]
  },
  {
   "cell_type": "markdown",
   "metadata": {
    "id": "WoPuroUXT35G"
   },
   "source": [
    "### Exploratory Data Analysis and Pre-processing data"
   ]
  },
  {
   "cell_type": "code",
   "execution_count": 1,
   "metadata": {
    "id": "L5euB5HvfymK"
   },
   "outputs": [],
   "source": [
    "import numpy as np\n",
    "import pandas as pd\n"
   ]
  },
  {
   "cell_type": "code",
   "execution_count": 2,
   "metadata": {
    "colab": {
     "base_uri": "https://localhost:8080/",
     "height": 109
    },
    "id": "7OkltCh7fyj3",
    "outputId": "b9da4402-5419-44b8-f2a8-c408d192d360"
   },
   "outputs": [],
   "source": [
    "# Load your training data set and splitting training data into X and y\n",
    "df_train = pd.read_csv('CreditDefault_training.csv')\n",
    "df_test = pd.read_csv('CreditDefault_Xtest.csv')"
   ]
  },
  {
   "cell_type": "code",
   "execution_count": 3,
   "metadata": {
    "colab": {
     "base_uri": "https://localhost:8080/"
    },
    "id": "mnIOFmTLfyfJ",
    "outputId": "a2133c27-88f5-428f-a479-0301d8f73837"
   },
   "outputs": [
    {
     "name": "stdout",
     "output_type": "stream",
     "text": [
      "   LIMIT_BAL       AGE  BILL_AMT1  BILL_AMT2  BILL_AMT3  BILL_AMT4  BILL_AMT5  \\\n",
      "0  -0.902690 -1.237370  -0.659401  -0.657623  -0.653395  -0.558590  -0.564919   \n",
      "1  -0.751263 -1.237370   0.123571   0.174192   0.222944   0.299113   0.397532   \n",
      "2   1.898720  0.816144  -0.573530  -0.484216  -0.572498  -0.613365  -0.597173   \n",
      "3  -1.054118  1.896941  -0.680080  -0.679090  -0.618263  -0.598931  -0.584702   \n",
      "4  -0.902690  1.464622  -0.427412  -0.411319  -0.357541  -0.331676  -0.296197   \n",
      "\n",
      "   BILL_AMT6  PAY_AMT1  PAY_AMT2  PAY_AMT3  PAY_AMT4  PAY_AMT5  PAY_AMT6  \n",
      "0  -0.630095 -0.264370 -0.244519  0.071315 -0.262679 -0.267721  1.270320  \n",
      "1   0.500862 -0.175510 -0.171175 -0.178872 -0.109918  0.049149 -0.300705  \n",
      "2  -0.540866  0.526037  0.097548 -0.157124 -0.108494  0.057642  1.564334  \n",
      "3  -0.635727 -0.362190 -0.116218 -0.332890 -0.268056 -0.288256 -0.300705  \n",
      "4  -0.272334 -0.299963 -0.154688 -0.332890 -0.215343 -0.230083 -0.242460  \n"
     ]
    }
   ],
   "source": [
    "#standardization of continuous variables of the training set\n",
    "from sklearn.preprocessing import StandardScaler\n",
    "\n",
    "# Selecting the continuous variables\n",
    "stand_cont_train = df_train[['LIMIT_BAL', 'AGE', 'BILL_AMT1', 'BILL_AMT2',\n",
    "       'BILL_AMT3', 'BILL_AMT4', 'BILL_AMT5', 'BILL_AMT6', 'PAY_AMT1',\n",
    "       'PAY_AMT2', 'PAY_AMT3', 'PAY_AMT4', 'PAY_AMT5', 'PAY_AMT6']]\n",
    "\n",
    "# Applying StandardScaler\n",
    "scaler = StandardScaler()\n",
    "cont_scaled_train = scaler.fit_transform(stand_cont_train)\n",
    "\n",
    "# Converting to DataFrame\n",
    "cont_scaled_df_train = pd.DataFrame(cont_scaled_train, columns=stand_cont_train.columns)\n",
    "\n",
    "\n",
    "print(cont_scaled_df_train.head())"
   ]
  },
  {
   "cell_type": "code",
   "execution_count": 4,
   "metadata": {
    "colab": {
     "base_uri": "https://localhost:8080/"
    },
    "id": "Q8jnu2-mfydg",
    "outputId": "d9d14598-d064-4ecc-826f-5252dea364f8"
   },
   "outputs": [
    {
     "name": "stdout",
     "output_type": "stream",
     "text": [
      "   LIMIT_BAL       AGE  BILL_AMT1  BILL_AMT2  BILL_AMT3  BILL_AMT4  BILL_AMT5  \\\n",
      "0  -0.630510  0.620300   1.634425   1.512066   1.351052  -0.369743  -0.607774   \n",
      "1  -0.863285 -0.044189  -0.029025  -0.424391  -0.422265  -0.382195  -0.355548   \n",
      "2  -0.630510  0.731049  -0.452793  -0.420992  -0.387009  -0.345811  -0.307403   \n",
      "3  -0.009777 -0.930174   0.713256   0.435431   0.536011  -0.034137   0.033896   \n",
      "4  -1.018468 -0.597929  -0.571248  -0.515319  -0.477150  -0.414975  -0.375876   \n",
      "\n",
      "   BILL_AMT6  PAY_AMT1  PAY_AMT2  PAY_AMT3  PAY_AMT4  PAY_AMT5  PAY_AMT6  \n",
      "0  -0.444210 -0.082065 -0.172661 -0.223336 -0.114938  0.421282 -0.196015  \n",
      "1  -0.330376 -0.279571  0.078449 -0.233273 -0.258322 -0.285271 -0.247379  \n",
      "2  -0.293458 -0.277090 -0.295516 -0.233030 -0.258322 -0.328137 -0.183797  \n",
      "3  -0.646624 -0.135306 -0.160510 -0.189408 -0.195212 -0.328137 -0.277784  \n",
      "4  -0.308253 -0.177841 -0.275265 -0.174867 -0.258322 -0.137056 -0.230790  \n"
     ]
    }
   ],
   "source": [
    "#standardization of continuous variables of the test set\n",
    "from sklearn.preprocessing import StandardScaler\n",
    "\n",
    "# Selecting the continuous variables\n",
    "stand_cont_test = df_test[['LIMIT_BAL', 'AGE', 'BILL_AMT1', 'BILL_AMT2',\n",
    "       'BILL_AMT3', 'BILL_AMT4', 'BILL_AMT5', 'BILL_AMT6', 'PAY_AMT1',\n",
    "       'PAY_AMT2', 'PAY_AMT3', 'PAY_AMT4', 'PAY_AMT5', 'PAY_AMT6']]\n",
    "\n",
    "# Applying StandardScaler\n",
    "scaler = StandardScaler()\n",
    "cont_scaled_test = scaler.fit_transform(stand_cont_test)\n",
    "\n",
    "# Converting to DataFrame\n",
    "cont_scaled_df_test = pd.DataFrame(cont_scaled_test, columns=stand_cont_test.columns)\n",
    "\n",
    "\n",
    "print(cont_scaled_df_test.head())"
   ]
  },
  {
   "cell_type": "code",
   "execution_count": 5,
   "metadata": {
    "colab": {
     "base_uri": "https://localhost:8080/"
    },
    "id": "DiIiozgUfybH",
    "outputId": "5f037983-4f4b-451a-8b61-6d4c9862deb8"
   },
   "outputs": [
    {
     "name": "stdout",
     "output_type": "stream",
     "text": [
      "   SEX_1  SEX_2  EDUCATION_1  EDUCATION_2  EDUCATION_3  EDUCATION_4  \\\n",
      "0    0.0    1.0          0.0          1.0          0.0          0.0   \n",
      "1    0.0    1.0          0.0          1.0          0.0          0.0   \n",
      "2    1.0    0.0          1.0          0.0          0.0          0.0   \n",
      "3    1.0    0.0          0.0          1.0          0.0          0.0   \n",
      "4    0.0    1.0          0.0          1.0          0.0          0.0   \n",
      "\n",
      "   EDUCATION_5  EDUCATION_6  MARRIAGE_1  MARRIAGE_2  ...  PAY_6_0  PAY_6_1  \\\n",
      "0          0.0          0.0         0.0         1.0  ...      0.0      0.0   \n",
      "1          0.0          0.0         0.0         1.0  ...      1.0      0.0   \n",
      "2          0.0          0.0         1.0         0.0  ...      0.0      0.0   \n",
      "3          0.0          0.0         0.0         0.0  ...      1.0      0.0   \n",
      "4          0.0          0.0         1.0         0.0  ...      1.0      0.0   \n",
      "\n",
      "   PAY_6_2  PAY_6_3  PAY_6_4  PAY_6_5  PAY_6_6  PAY_6_7  PAY_6_8  PAY_6_9  \n",
      "0      0.0      0.0      0.0      0.0      0.0      0.0      0.0      0.0  \n",
      "1      0.0      0.0      0.0      0.0      0.0      0.0      0.0      0.0  \n",
      "2      0.0      0.0      0.0      0.0      0.0      0.0      0.0      0.0  \n",
      "3      0.0      0.0      0.0      0.0      0.0      0.0      0.0      0.0  \n",
      "4      0.0      0.0      0.0      0.0      0.0      0.0      0.0      0.0  \n",
      "\n",
      "[5 rows x 83 columns]\n"
     ]
    },
    {
     "name": "stderr",
     "output_type": "stream",
     "text": [
      "/Users/mishika/anaconda3/lib/python3.11/site-packages/sklearn/preprocessing/_encoders.py:972: FutureWarning: `sparse` was renamed to `sparse_output` in version 1.2 and will be removed in 1.4. `sparse_output` is ignored unless you leave `sparse` to its default value.\n",
      "  warnings.warn(\n",
      "/Users/mishika/anaconda3/lib/python3.11/site-packages/sklearn/preprocessing/_encoders.py:972: FutureWarning: `sparse` was renamed to `sparse_output` in version 1.2 and will be removed in 1.4. `sparse_output` is ignored unless you leave `sparse` to its default value.\n",
      "  warnings.warn(\n"
     ]
    }
   ],
   "source": [
    "# one-hot encoding of categorical variables of the training data set\n",
    "from sklearn.preprocessing import OneHotEncoder\n",
    "\n",
    "cat_data_train = df_train[['SEX', 'EDUCATION', 'MARRIAGE']]\n",
    "\n",
    "# Applying OneHotEncoder\n",
    "encoder = OneHotEncoder(sparse=False)\n",
    "categorical_encoded_train_1 = encoder.fit_transform(cat_data_train)\n",
    "categorical_encoded_df_train_1 = pd.DataFrame(categorical_encoded_train_1, columns=encoder.get_feature_names_out(cat_data_train.columns))\n",
    "\n",
    "# Encoding the other categorical variables from 'PAY_1' to 'PAY_6'\n",
    "\n",
    "# Creating a numpy array with all possible values of PAY columns\n",
    "cat = np.array([-2,-1,0,1,2,3,4,5,6,7,8,9])\n",
    "a_cat = []\n",
    "\n",
    " #Creating a list of 6 numpy arrays that represent each PAY column containing all the possible values\n",
    "for i in range(0,6):\n",
    "  a_cat.append(cat)\n",
    "\n",
    "\n",
    "cat_data_train_2 = df_train[['PAY_1', 'PAY_2', 'PAY_3', 'PAY_4', 'PAY_5', 'PAY_6']]\n",
    "#Encoding the training set for PAY_1 to PAY_6 variables\n",
    "encoder_1 = OneHotEncoder(sparse = False, categories= a_cat)\n",
    "categorical_encoded_train_2 = encoder_1.fit_transform(cat_data_train_2)\n",
    "categorical_encoded_df_train_2 = pd.DataFrame(categorical_encoded_train_2, columns=encoder_1.get_feature_names_out(cat_data_train_2.columns))\n",
    "\n",
    "\n",
    "categorical_encoded_df_train = pd.concat([categorical_encoded_df_train_1,categorical_encoded_df_train_2], axis =1)\n",
    "print(categorical_encoded_df_train.head())\n"
   ]
  },
  {
   "cell_type": "code",
   "execution_count": 6,
   "metadata": {
    "colab": {
     "base_uri": "https://localhost:8080/"
    },
    "id": "PWgsCgaVfyZB",
    "outputId": "416081e6-2d30-4c25-dd90-9d2bf9ab6139"
   },
   "outputs": [
    {
     "name": "stdout",
     "output_type": "stream",
     "text": [
      "   SEX_1  SEX_2  EDUCATION_1  EDUCATION_2  EDUCATION_3  EDUCATION_4  \\\n",
      "0    1.0    0.0          0.0          0.0          0.0          0.0   \n",
      "1    1.0    0.0          1.0          0.0          0.0          0.0   \n",
      "2    0.0    1.0          1.0          0.0          0.0          0.0   \n",
      "3    0.0    1.0          0.0          1.0          0.0          0.0   \n",
      "4    1.0    0.0          1.0          0.0          0.0          0.0   \n",
      "\n",
      "   EDUCATION_5  EDUCATION_6  MARRIAGE_1  MARRIAGE_2  ...  PAY_6_0  PAY_6_1  \\\n",
      "0          0.0          1.0         1.0         0.0  ...      0.0      0.0   \n",
      "1          0.0          0.0         0.0         1.0  ...      1.0      0.0   \n",
      "2          0.0          0.0         1.0         0.0  ...      0.0      0.0   \n",
      "3          0.0          0.0         0.0         1.0  ...      1.0      0.0   \n",
      "4          0.0          0.0         1.0         0.0  ...      1.0      0.0   \n",
      "\n",
      "   PAY_6_2  PAY_6_3  PAY_6_4  PAY_6_5  PAY_6_6  PAY_6_7  PAY_6_8  PAY_6_9  \n",
      "0      0.0      0.0      0.0      0.0      0.0      0.0      0.0      0.0  \n",
      "1      0.0      0.0      0.0      0.0      0.0      0.0      0.0      0.0  \n",
      "2      1.0      0.0      0.0      0.0      0.0      0.0      0.0      0.0  \n",
      "3      0.0      0.0      0.0      0.0      0.0      0.0      0.0      0.0  \n",
      "4      0.0      0.0      0.0      0.0      0.0      0.0      0.0      0.0  \n",
      "\n",
      "[5 rows x 83 columns]\n"
     ]
    },
    {
     "name": "stderr",
     "output_type": "stream",
     "text": [
      "/Users/mishika/anaconda3/lib/python3.11/site-packages/sklearn/preprocessing/_encoders.py:972: FutureWarning: `sparse` was renamed to `sparse_output` in version 1.2 and will be removed in 1.4. `sparse_output` is ignored unless you leave `sparse` to its default value.\n",
      "  warnings.warn(\n"
     ]
    }
   ],
   "source": [
    "# one-hot encoding of categorical variables of the test data set\n",
    "from sklearn.preprocessing import OneHotEncoder\n",
    "\n",
    "cat_data_test = df_test[['SEX', 'EDUCATION', 'MARRIAGE']]\n",
    "\n",
    "# Applying OneHotEncoder\n",
    "encoder = OneHotEncoder(sparse=False)\n",
    "categorical_encoded_test_1 = encoder.fit_transform(cat_data_test)\n",
    "categorical_encoded_df_test_1 = pd.DataFrame(categorical_encoded_test_1, columns=encoder.get_feature_names_out(cat_data_test.columns))\n",
    "\n",
    "# Encoding the other categorical variables from 'PAY_1' to 'PAY_6'\n",
    "\n",
    "# Creating a numpy array with all possible values of PAY columns\n",
    "cat = np.array([-2,-1,0,1,2,3,4,5,6,7,8,9])\n",
    "a_cat = []\n",
    "\n",
    " #Creating a list of 6 numpy arrays that represent each PAY column containing all the possible values\n",
    "for i in range(0,6):\n",
    "  a_cat.append(cat)\n",
    "\n",
    "\n",
    "cat_data_test_2 = df_test[['PAY_1', 'PAY_2', 'PAY_3', 'PAY_4', 'PAY_5', 'PAY_6']]\n",
    "#Encoding the training set for PAY_1 to PAY_6 variables\n",
    "categorical_encoded_test_2 = encoder_1.transform(cat_data_test_2)\n",
    "categorical_encoded_df_test_2 = pd.DataFrame(categorical_encoded_test_2, columns=encoder_1.get_feature_names_out(cat_data_test_2.columns))\n",
    "\n",
    "categorical_encoded_df_test = pd.concat([categorical_encoded_df_test_1,categorical_encoded_df_test_2], axis =1)\n",
    "print(categorical_encoded_df_test.head())"
   ]
  },
  {
   "cell_type": "code",
   "execution_count": 7,
   "metadata": {
    "colab": {
     "base_uri": "https://localhost:8080/"
    },
    "id": "cgM6xwPYnL7C",
    "outputId": "0525ce3f-1797-43e4-8fc4-bcfc13e55bdd"
   },
   "outputs": [
    {
     "name": "stderr",
     "output_type": "stream",
     "text": [
      "/Users/mishika/anaconda3/lib/python3.11/site-packages/sklearn/preprocessing/_encoders.py:972: FutureWarning: `sparse` was renamed to `sparse_output` in version 1.2 and will be removed in 1.4. `sparse_output` is ignored unless you leave `sparse` to its default value.\n",
      "  warnings.warn(\n"
     ]
    }
   ],
   "source": [
    "# One-hot encoding for the target variable (y)\n",
    "y_encoder = OneHotEncoder(sparse=False)\n",
    "#y_encoded = y_encoder.fit_transform(y.values.reshape(-1, 1))\n",
    "y_encoded = y_encoder.fit_transform(df_train['default.payment.next.month'].values.reshape(-1,1))\n",
    "y_encoded_df = pd.DataFrame(y_encoded, columns=y_encoder.get_feature_names_out(['default.payment.next.month']))"
   ]
  },
  {
   "cell_type": "code",
   "execution_count": 8,
   "metadata": {
    "colab": {
     "base_uri": "https://localhost:8080/",
     "height": 424
    },
    "id": "7TlAT2a_Mn0_",
    "outputId": "47cc3a03-a110-45e9-8e56-adbd2f33c03f"
   },
   "outputs": [
    {
     "data": {
      "text/html": [
       "<div>\n",
       "<style scoped>\n",
       "    .dataframe tbody tr th:only-of-type {\n",
       "        vertical-align: middle;\n",
       "    }\n",
       "\n",
       "    .dataframe tbody tr th {\n",
       "        vertical-align: top;\n",
       "    }\n",
       "\n",
       "    .dataframe thead th {\n",
       "        text-align: right;\n",
       "    }\n",
       "</style>\n",
       "<table border=\"1\" class=\"dataframe\">\n",
       "  <thead>\n",
       "    <tr style=\"text-align: right;\">\n",
       "      <th></th>\n",
       "      <th>default.payment.next.month_0</th>\n",
       "      <th>default.payment.next.month_1</th>\n",
       "    </tr>\n",
       "  </thead>\n",
       "  <tbody>\n",
       "    <tr>\n",
       "      <th>0</th>\n",
       "      <td>1.0</td>\n",
       "      <td>0.0</td>\n",
       "    </tr>\n",
       "    <tr>\n",
       "      <th>1</th>\n",
       "      <td>1.0</td>\n",
       "      <td>0.0</td>\n",
       "    </tr>\n",
       "    <tr>\n",
       "      <th>2</th>\n",
       "      <td>1.0</td>\n",
       "      <td>0.0</td>\n",
       "    </tr>\n",
       "    <tr>\n",
       "      <th>3</th>\n",
       "      <td>0.0</td>\n",
       "      <td>1.0</td>\n",
       "    </tr>\n",
       "    <tr>\n",
       "      <th>4</th>\n",
       "      <td>1.0</td>\n",
       "      <td>0.0</td>\n",
       "    </tr>\n",
       "    <tr>\n",
       "      <th>...</th>\n",
       "      <td>...</td>\n",
       "      <td>...</td>\n",
       "    </tr>\n",
       "    <tr>\n",
       "      <th>3980</th>\n",
       "      <td>1.0</td>\n",
       "      <td>0.0</td>\n",
       "    </tr>\n",
       "    <tr>\n",
       "      <th>3981</th>\n",
       "      <td>1.0</td>\n",
       "      <td>0.0</td>\n",
       "    </tr>\n",
       "    <tr>\n",
       "      <th>3982</th>\n",
       "      <td>1.0</td>\n",
       "      <td>0.0</td>\n",
       "    </tr>\n",
       "    <tr>\n",
       "      <th>3983</th>\n",
       "      <td>0.0</td>\n",
       "      <td>1.0</td>\n",
       "    </tr>\n",
       "    <tr>\n",
       "      <th>3984</th>\n",
       "      <td>1.0</td>\n",
       "      <td>0.0</td>\n",
       "    </tr>\n",
       "  </tbody>\n",
       "</table>\n",
       "<p>3985 rows × 2 columns</p>\n",
       "</div>"
      ],
      "text/plain": [
       "      default.payment.next.month_0  default.payment.next.month_1\n",
       "0                              1.0                           0.0\n",
       "1                              1.0                           0.0\n",
       "2                              1.0                           0.0\n",
       "3                              0.0                           1.0\n",
       "4                              1.0                           0.0\n",
       "...                            ...                           ...\n",
       "3980                           1.0                           0.0\n",
       "3981                           1.0                           0.0\n",
       "3982                           1.0                           0.0\n",
       "3983                           0.0                           1.0\n",
       "3984                           1.0                           0.0\n",
       "\n",
       "[3985 rows x 2 columns]"
      ]
     },
     "execution_count": 8,
     "metadata": {},
     "output_type": "execute_result"
    }
   ],
   "source": [
    "y_encoded_df"
   ]
  },
  {
   "cell_type": "code",
   "execution_count": 9,
   "metadata": {
    "colab": {
     "base_uri": "https://localhost:8080/"
    },
    "id": "mfGThi16fyXP",
    "outputId": "84af5813-023d-4dfd-dee3-c906ff261f6d"
   },
   "outputs": [
    {
     "name": "stdout",
     "output_type": "stream",
     "text": [
      "   LIMIT_BAL       AGE  BILL_AMT1  BILL_AMT2  BILL_AMT3  BILL_AMT4  BILL_AMT5  \\\n",
      "0  -0.902690 -1.237370  -0.659401  -0.657623  -0.653395  -0.558590  -0.564919   \n",
      "1  -0.751263 -1.237370   0.123571   0.174192   0.222944   0.299113   0.397532   \n",
      "2   1.898720  0.816144  -0.573530  -0.484216  -0.572498  -0.613365  -0.597173   \n",
      "3  -1.054118  1.896941  -0.680080  -0.679090  -0.618263  -0.598931  -0.584702   \n",
      "4  -0.902690  1.464622  -0.427412  -0.411319  -0.357541  -0.331676  -0.296197   \n",
      "\n",
      "   BILL_AMT6  PAY_AMT1  PAY_AMT2  ...  PAY_6_2  PAY_6_3  PAY_6_4  PAY_6_5  \\\n",
      "0  -0.630095 -0.264370 -0.244519  ...      0.0      0.0      0.0      0.0   \n",
      "1   0.500862 -0.175510 -0.171175  ...      0.0      0.0      0.0      0.0   \n",
      "2  -0.540866  0.526037  0.097548  ...      0.0      0.0      0.0      0.0   \n",
      "3  -0.635727 -0.362190 -0.116218  ...      0.0      0.0      0.0      0.0   \n",
      "4  -0.272334 -0.299963 -0.154688  ...      0.0      0.0      0.0      0.0   \n",
      "\n",
      "   PAY_6_6  PAY_6_7  PAY_6_8  PAY_6_9  default.payment.next.month_0  \\\n",
      "0      0.0      0.0      0.0      0.0                           1.0   \n",
      "1      0.0      0.0      0.0      0.0                           1.0   \n",
      "2      0.0      0.0      0.0      0.0                           1.0   \n",
      "3      0.0      0.0      0.0      0.0                           0.0   \n",
      "4      0.0      0.0      0.0      0.0                           1.0   \n",
      "\n",
      "   default.payment.next.month_1  \n",
      "0                           0.0  \n",
      "1                           0.0  \n",
      "2                           0.0  \n",
      "3                           1.0  \n",
      "4                           0.0  \n",
      "\n",
      "[5 rows x 99 columns]\n",
      "   LIMIT_BAL       AGE  BILL_AMT1  BILL_AMT2  BILL_AMT3  BILL_AMT4  BILL_AMT5  \\\n",
      "0  -0.630510  0.620300   1.634425   1.512066   1.351052  -0.369743  -0.607774   \n",
      "1  -0.863285 -0.044189  -0.029025  -0.424391  -0.422265  -0.382195  -0.355548   \n",
      "2  -0.630510  0.731049  -0.452793  -0.420992  -0.387009  -0.345811  -0.307403   \n",
      "3  -0.009777 -0.930174   0.713256   0.435431   0.536011  -0.034137   0.033896   \n",
      "4  -1.018468 -0.597929  -0.571248  -0.515319  -0.477150  -0.414975  -0.375876   \n",
      "\n",
      "   BILL_AMT6  PAY_AMT1  PAY_AMT2  ...  PAY_6_0  PAY_6_1  PAY_6_2  PAY_6_3  \\\n",
      "0  -0.444210 -0.082065 -0.172661  ...      0.0      0.0      0.0      0.0   \n",
      "1  -0.330376 -0.279571  0.078449  ...      1.0      0.0      0.0      0.0   \n",
      "2  -0.293458 -0.277090 -0.295516  ...      0.0      0.0      1.0      0.0   \n",
      "3  -0.646624 -0.135306 -0.160510  ...      1.0      0.0      0.0      0.0   \n",
      "4  -0.308253 -0.177841 -0.275265  ...      1.0      0.0      0.0      0.0   \n",
      "\n",
      "   PAY_6_4  PAY_6_5  PAY_6_6  PAY_6_7  PAY_6_8  PAY_6_9  \n",
      "0      0.0      0.0      0.0      0.0      0.0      0.0  \n",
      "1      0.0      0.0      0.0      0.0      0.0      0.0  \n",
      "2      0.0      0.0      0.0      0.0      0.0      0.0  \n",
      "3      0.0      0.0      0.0      0.0      0.0      0.0  \n",
      "4      0.0      0.0      0.0      0.0      0.0      0.0  \n",
      "\n",
      "[5 rows x 97 columns]\n"
     ]
    }
   ],
   "source": [
    "# Resetting index to align the dataframes before combining\n",
    "categorical_encoded_df_train.reset_index(drop=True, inplace=True) # training set\n",
    "cont_scaled_df_train.reset_index(drop=True, inplace=True) # training set\n",
    "\n",
    "categorical_encoded_df_test.reset_index(drop=True, inplace=True) # test set\n",
    "cont_scaled_df_test.reset_index(drop=True, inplace=True) # test set\n",
    "\n",
    "# Combining encoded categorical data and scaled numerical data of the training set\n",
    "combined_df_train = pd.concat([cont_scaled_df_train,categorical_encoded_df_train, y_encoded_df], axis=1)\n",
    "\n",
    "# Combining encoded categorical data and scaled numerical data of the test set\n",
    "combined_df_test= pd.concat([cont_scaled_df_test,categorical_encoded_df_test], axis=1)\n",
    "\n",
    "\n",
    "print(combined_df_train.head())\n",
    "print(combined_df_test.head())"
   ]
  },
  {
   "cell_type": "code",
   "execution_count": 10,
   "metadata": {
    "id": "GRmxvSmqfyVa"
   },
   "outputs": [],
   "source": [
    "# Our combined DataFrame after preprocessing is named combined_df_train\n",
    "# And the target variable is ''default.payment.next.month'\n",
    "\n",
    "# Separating the features and the target variable\n",
    "X = combined_df_train.drop(columns=['default.payment.next.month_0', 'default.payment.next.month_1'], axis=1)\n",
    "y = combined_df_train[['default.payment.next.month_0', 'default.payment.next.month_1']]"
   ]
  },
  {
   "cell_type": "code",
   "execution_count": 11,
   "metadata": {
    "id": "RO0USNU2V8RY"
   },
   "outputs": [],
   "source": [
    "# Splitting  data into training and validation set \n",
    "from sklearn.model_selection import train_test_split\n",
    "X_train, X_val, y_train, y_val = train_test_split(X, y, test_size=0.3, random_state=42)"
   ]
  },
  {
   "cell_type": "code",
   "execution_count": 12,
   "metadata": {
    "colab": {
     "base_uri": "https://localhost:8080/"
    },
    "id": "csifFJTU_guc",
    "outputId": "8639e3cd-3c30-4292-bb69-a802d2de1f61"
   },
   "outputs": [
    {
     "data": {
      "text/plain": [
       "(2789, 97)"
      ]
     },
     "execution_count": 12,
     "metadata": {},
     "output_type": "execute_result"
    }
   ],
   "source": [
    "\n",
    "X_train.shape"
   ]
  },
  {
   "cell_type": "markdown",
   "metadata": {
    "id": "BScpBTLeYsDE"
   },
   "source": [
    "### Modeling - Part 1 (Neural Network)\n"
   ]
  },
  {
   "cell_type": "code",
   "execution_count": 13,
   "metadata": {
    "colab": {
     "base_uri": "https://localhost:8080/"
    },
    "id": "-r1LrUREF9_b",
    "outputId": "b4c1d25b-af81-4ff6-8f87-7aa133a02155"
   },
   "outputs": [
    {
     "name": "stdout",
     "output_type": "stream",
     "text": [
      "Requirement already satisfied: tensorflow==2.14.0 in /Users/mishika/anaconda3/lib/python3.11/site-packages (2.14.0)\n",
      "Requirement already satisfied: tensorflow-macos==2.14.0 in /Users/mishika/anaconda3/lib/python3.11/site-packages (from tensorflow==2.14.0) (2.14.0)\n",
      "Requirement already satisfied: absl-py>=1.0.0 in /Users/mishika/anaconda3/lib/python3.11/site-packages (from tensorflow-macos==2.14.0->tensorflow==2.14.0) (2.0.0)\n",
      "Requirement already satisfied: astunparse>=1.6.0 in /Users/mishika/anaconda3/lib/python3.11/site-packages (from tensorflow-macos==2.14.0->tensorflow==2.14.0) (1.6.3)\n",
      "Requirement already satisfied: flatbuffers>=23.5.26 in /Users/mishika/anaconda3/lib/python3.11/site-packages (from tensorflow-macos==2.14.0->tensorflow==2.14.0) (23.5.26)\n",
      "Requirement already satisfied: gast!=0.5.0,!=0.5.1,!=0.5.2,>=0.2.1 in /Users/mishika/anaconda3/lib/python3.11/site-packages (from tensorflow-macos==2.14.0->tensorflow==2.14.0) (0.5.4)\n",
      "Requirement already satisfied: google-pasta>=0.1.1 in /Users/mishika/anaconda3/lib/python3.11/site-packages (from tensorflow-macos==2.14.0->tensorflow==2.14.0) (0.2.0)\n",
      "Requirement already satisfied: h5py>=2.9.0 in /Users/mishika/anaconda3/lib/python3.11/site-packages (from tensorflow-macos==2.14.0->tensorflow==2.14.0) (3.7.0)\n",
      "Requirement already satisfied: libclang>=13.0.0 in /Users/mishika/anaconda3/lib/python3.11/site-packages (from tensorflow-macos==2.14.0->tensorflow==2.14.0) (16.0.6)\n",
      "Requirement already satisfied: ml-dtypes==0.2.0 in /Users/mishika/anaconda3/lib/python3.11/site-packages (from tensorflow-macos==2.14.0->tensorflow==2.14.0) (0.2.0)\n",
      "Requirement already satisfied: numpy>=1.23.5 in /Users/mishika/anaconda3/lib/python3.11/site-packages (from tensorflow-macos==2.14.0->tensorflow==2.14.0) (1.24.3)\n",
      "Requirement already satisfied: opt-einsum>=2.3.2 in /Users/mishika/anaconda3/lib/python3.11/site-packages (from tensorflow-macos==2.14.0->tensorflow==2.14.0) (3.3.0)\n",
      "Requirement already satisfied: packaging in /Users/mishika/anaconda3/lib/python3.11/site-packages (from tensorflow-macos==2.14.0->tensorflow==2.14.0) (23.0)\n",
      "Requirement already satisfied: protobuf!=4.21.0,!=4.21.1,!=4.21.2,!=4.21.3,!=4.21.4,!=4.21.5,<5.0.0dev,>=3.20.3 in /Users/mishika/anaconda3/lib/python3.11/site-packages (from tensorflow-macos==2.14.0->tensorflow==2.14.0) (4.25.1)\n",
      "Requirement already satisfied: setuptools in /Users/mishika/anaconda3/lib/python3.11/site-packages (from tensorflow-macos==2.14.0->tensorflow==2.14.0) (68.0.0)\n",
      "Requirement already satisfied: six>=1.12.0 in /Users/mishika/anaconda3/lib/python3.11/site-packages (from tensorflow-macos==2.14.0->tensorflow==2.14.0) (1.16.0)\n",
      "Requirement already satisfied: termcolor>=1.1.0 in /Users/mishika/anaconda3/lib/python3.11/site-packages (from tensorflow-macos==2.14.0->tensorflow==2.14.0) (2.4.0)\n",
      "Requirement already satisfied: typing-extensions>=3.6.6 in /Users/mishika/anaconda3/lib/python3.11/site-packages (from tensorflow-macos==2.14.0->tensorflow==2.14.0) (4.7.1)\n",
      "Requirement already satisfied: wrapt<1.15,>=1.11.0 in /Users/mishika/anaconda3/lib/python3.11/site-packages (from tensorflow-macos==2.14.0->tensorflow==2.14.0) (1.14.1)\n",
      "Requirement already satisfied: tensorflow-io-gcs-filesystem>=0.23.1 in /Users/mishika/anaconda3/lib/python3.11/site-packages (from tensorflow-macos==2.14.0->tensorflow==2.14.0) (0.34.0)\n",
      "Requirement already satisfied: grpcio<2.0,>=1.24.3 in /Users/mishika/anaconda3/lib/python3.11/site-packages (from tensorflow-macos==2.14.0->tensorflow==2.14.0) (1.60.0)\n",
      "Requirement already satisfied: tensorboard<2.15,>=2.14 in /Users/mishika/anaconda3/lib/python3.11/site-packages (from tensorflow-macos==2.14.0->tensorflow==2.14.0) (2.14.1)\n",
      "Requirement already satisfied: tensorflow-estimator<2.15,>=2.14.0 in /Users/mishika/anaconda3/lib/python3.11/site-packages (from tensorflow-macos==2.14.0->tensorflow==2.14.0) (2.14.0)\n",
      "Requirement already satisfied: keras<2.15,>=2.14.0 in /Users/mishika/anaconda3/lib/python3.11/site-packages (from tensorflow-macos==2.14.0->tensorflow==2.14.0) (2.14.0)\n",
      "Requirement already satisfied: wheel<1.0,>=0.23.0 in /Users/mishika/anaconda3/lib/python3.11/site-packages (from astunparse>=1.6.0->tensorflow-macos==2.14.0->tensorflow==2.14.0) (0.38.4)\n",
      "Requirement already satisfied: google-auth<3,>=1.6.3 in /Users/mishika/anaconda3/lib/python3.11/site-packages (from tensorboard<2.15,>=2.14->tensorflow-macos==2.14.0->tensorflow==2.14.0) (2.26.1)\n",
      "Requirement already satisfied: google-auth-oauthlib<1.1,>=0.5 in /Users/mishika/anaconda3/lib/python3.11/site-packages (from tensorboard<2.15,>=2.14->tensorflow-macos==2.14.0->tensorflow==2.14.0) (1.0.0)\n",
      "Requirement already satisfied: markdown>=2.6.8 in /Users/mishika/anaconda3/lib/python3.11/site-packages (from tensorboard<2.15,>=2.14->tensorflow-macos==2.14.0->tensorflow==2.14.0) (3.4.1)\n",
      "Requirement already satisfied: requests<3,>=2.21.0 in /Users/mishika/anaconda3/lib/python3.11/site-packages (from tensorboard<2.15,>=2.14->tensorflow-macos==2.14.0->tensorflow==2.14.0) (2.31.0)\n",
      "Requirement already satisfied: tensorboard-data-server<0.8.0,>=0.7.0 in /Users/mishika/anaconda3/lib/python3.11/site-packages (from tensorboard<2.15,>=2.14->tensorflow-macos==2.14.0->tensorflow==2.14.0) (0.7.2)\n",
      "Requirement already satisfied: werkzeug>=1.0.1 in /Users/mishika/anaconda3/lib/python3.11/site-packages (from tensorboard<2.15,>=2.14->tensorflow-macos==2.14.0->tensorflow==2.14.0) (2.2.3)\n",
      "Requirement already satisfied: cachetools<6.0,>=2.0.0 in /Users/mishika/anaconda3/lib/python3.11/site-packages (from google-auth<3,>=1.6.3->tensorboard<2.15,>=2.14->tensorflow-macos==2.14.0->tensorflow==2.14.0) (5.3.2)\n",
      "Requirement already satisfied: pyasn1-modules>=0.2.1 in /Users/mishika/anaconda3/lib/python3.11/site-packages (from google-auth<3,>=1.6.3->tensorboard<2.15,>=2.14->tensorflow-macos==2.14.0->tensorflow==2.14.0) (0.2.8)\n",
      "Requirement already satisfied: rsa<5,>=3.1.4 in /Users/mishika/anaconda3/lib/python3.11/site-packages (from google-auth<3,>=1.6.3->tensorboard<2.15,>=2.14->tensorflow-macos==2.14.0->tensorflow==2.14.0) (4.9)\n",
      "Requirement already satisfied: requests-oauthlib>=0.7.0 in /Users/mishika/anaconda3/lib/python3.11/site-packages (from google-auth-oauthlib<1.1,>=0.5->tensorboard<2.15,>=2.14->tensorflow-macos==2.14.0->tensorflow==2.14.0) (1.3.1)\n",
      "Requirement already satisfied: charset-normalizer<4,>=2 in /Users/mishika/anaconda3/lib/python3.11/site-packages (from requests<3,>=2.21.0->tensorboard<2.15,>=2.14->tensorflow-macos==2.14.0->tensorflow==2.14.0) (2.0.4)\n",
      "Requirement already satisfied: idna<4,>=2.5 in /Users/mishika/anaconda3/lib/python3.11/site-packages (from requests<3,>=2.21.0->tensorboard<2.15,>=2.14->tensorflow-macos==2.14.0->tensorflow==2.14.0) (3.4)\n",
      "Requirement already satisfied: urllib3<3,>=1.21.1 in /Users/mishika/anaconda3/lib/python3.11/site-packages (from requests<3,>=2.21.0->tensorboard<2.15,>=2.14->tensorflow-macos==2.14.0->tensorflow==2.14.0) (1.26.16)\n",
      "Requirement already satisfied: certifi>=2017.4.17 in /Users/mishika/anaconda3/lib/python3.11/site-packages (from requests<3,>=2.21.0->tensorboard<2.15,>=2.14->tensorflow-macos==2.14.0->tensorflow==2.14.0) (2023.7.22)\n",
      "Requirement already satisfied: MarkupSafe>=2.1.1 in /Users/mishika/anaconda3/lib/python3.11/site-packages (from werkzeug>=1.0.1->tensorboard<2.15,>=2.14->tensorflow-macos==2.14.0->tensorflow==2.14.0) (2.1.1)\n",
      "Requirement already satisfied: pyasn1<0.5.0,>=0.4.6 in /Users/mishika/anaconda3/lib/python3.11/site-packages (from pyasn1-modules>=0.2.1->google-auth<3,>=1.6.3->tensorboard<2.15,>=2.14->tensorflow-macos==2.14.0->tensorflow==2.14.0) (0.4.8)\n",
      "Requirement already satisfied: oauthlib>=3.0.0 in /Users/mishika/anaconda3/lib/python3.11/site-packages (from requests-oauthlib>=0.7.0->google-auth-oauthlib<1.1,>=0.5->tensorboard<2.15,>=2.14->tensorflow-macos==2.14.0->tensorflow==2.14.0) (3.2.2)\n",
      "Note: you may need to restart the kernel to use updated packages.\n"
     ]
    }
   ],
   "source": [
    "pip install tensorflow==2.14.0"
   ]
  },
  {
   "cell_type": "code",
   "execution_count": 14,
   "metadata": {
    "id": "CHaYpfBx_gua"
   },
   "outputs": [],
   "source": [
    "# Importing required libraries\n",
    "\n",
    "from keras.models import Sequential \n",
    "# Keras refers to an architecture in which the outputs of \\\n",
    "#one layer are the inputs to the next as \"Sequential\"\n",
    "\n",
    "from keras.layers import Dense\n",
    "# \"dense\" connection between layers, where every input unit connects to a unit in the next layer\n",
    "\n",
    "from tensorflow.keras.optimizers.legacy import SGD # SGD is the learning algorithm used\n",
    "\n",
    "from keras.layers import Dense, Dropout\n",
    "\n",
    "from sklearn.linear_model import LogisticRegression\n",
    "from sklearn.ensemble import RandomForestClassifier\n",
    "from sklearn.model_selection import GridSearchCV"
   ]
  },
  {
   "cell_type": "code",
   "execution_count": 15,
   "metadata": {
    "id": "HJ2jpZpe_guc"
   },
   "outputs": [],
   "source": [
    "def build_final_model():\n",
    "    model = Sequential()\n",
    "    \n",
    "    model.add(Dense(units=128, input_shape=(X_train.shape[1],), activation='relu'))\n",
    "\n",
    "    # Drop out layer\n",
    "    model.add(Dropout(0.2))\n",
    "\n",
    "    # Continues the process\n",
    "    model.add(Dense(64, activation='relu'))\n",
    "    model.add(Dropout(0.3))\n",
    "\n",
    "    #  readout layer\n",
    "    model.add(Dense(2, activation='softmax'))\n",
    "\n",
    "    \n",
    "    sgd = SGD(learning_rate=0.001, decay=1e-7, momentum=.9)  # Stochastic gradient descent\n",
    "    model.compile(loss='categorical_crossentropy', optimizer=sgd, metrics=[\"accuracy\"])\n",
    "\n",
    "\n",
    "    return model"
   ]
  },
  {
   "cell_type": "code",
   "execution_count": 16,
   "metadata": {
    "id": "AHSeeBL9_guc"
   },
   "outputs": [],
   "source": [
    "model = build_final_model()"
   ]
  },
  {
   "cell_type": "code",
   "execution_count": 17,
   "metadata": {
    "colab": {
     "base_uri": "https://localhost:8080/"
    },
    "id": "biZD8E6Q_guc",
    "outputId": "34de3183-c641-4567-8861-4ff99961338e",
    "scrolled": true
   },
   "outputs": [
    {
     "name": "stdout",
     "output_type": "stream",
     "text": [
      "Epoch 1/100\n",
      "88/88 [==============================] - 0s 391us/step - loss: 0.5827 - accuracy: 0.7433\n",
      "Epoch 2/100\n",
      "88/88 [==============================] - 0s 368us/step - loss: 0.5310 - accuracy: 0.7651\n",
      "Epoch 3/100\n",
      "88/88 [==============================] - 0s 363us/step - loss: 0.5217 - accuracy: 0.7673\n",
      "Epoch 4/100\n",
      "88/88 [==============================] - 0s 365us/step - loss: 0.5120 - accuracy: 0.7702\n",
      "Epoch 5/100\n",
      "88/88 [==============================] - 0s 367us/step - loss: 0.4931 - accuracy: 0.7766\n",
      "Epoch 6/100\n",
      "88/88 [==============================] - 0s 370us/step - loss: 0.4918 - accuracy: 0.7806\n",
      "Epoch 7/100\n",
      "88/88 [==============================] - 0s 365us/step - loss: 0.4868 - accuracy: 0.7806\n",
      "Epoch 8/100\n",
      "88/88 [==============================] - 0s 363us/step - loss: 0.4821 - accuracy: 0.7863\n",
      "Epoch 9/100\n",
      "88/88 [==============================] - 0s 368us/step - loss: 0.4766 - accuracy: 0.7842\n",
      "Epoch 10/100\n",
      "88/88 [==============================] - 0s 365us/step - loss: 0.4761 - accuracy: 0.7917\n",
      "Epoch 11/100\n",
      "88/88 [==============================] - 0s 376us/step - loss: 0.4734 - accuracy: 0.7938\n",
      "Epoch 12/100\n",
      "88/88 [==============================] - 0s 359us/step - loss: 0.4685 - accuracy: 0.7902\n",
      "Epoch 13/100\n",
      "88/88 [==============================] - 0s 364us/step - loss: 0.4664 - accuracy: 0.7928\n",
      "Epoch 14/100\n",
      "88/88 [==============================] - 0s 363us/step - loss: 0.4583 - accuracy: 0.7971\n",
      "Epoch 15/100\n",
      "88/88 [==============================] - 0s 361us/step - loss: 0.4633 - accuracy: 0.7953\n",
      "Epoch 16/100\n",
      "88/88 [==============================] - 0s 360us/step - loss: 0.4594 - accuracy: 0.7981\n",
      "Epoch 17/100\n",
      "88/88 [==============================] - 0s 397us/step - loss: 0.4525 - accuracy: 0.7981\n",
      "Epoch 18/100\n",
      "88/88 [==============================] - 0s 357us/step - loss: 0.4540 - accuracy: 0.8006\n",
      "Epoch 19/100\n",
      "88/88 [==============================] - 0s 363us/step - loss: 0.4540 - accuracy: 0.8024\n",
      "Epoch 20/100\n",
      "88/88 [==============================] - 0s 367us/step - loss: 0.4516 - accuracy: 0.8035\n",
      "Epoch 21/100\n",
      "88/88 [==============================] - 0s 358us/step - loss: 0.4572 - accuracy: 0.8053\n",
      "Epoch 22/100\n",
      "88/88 [==============================] - 0s 360us/step - loss: 0.4418 - accuracy: 0.8089\n",
      "Epoch 23/100\n",
      "88/88 [==============================] - 0s 363us/step - loss: 0.4566 - accuracy: 0.8032\n",
      "Epoch 24/100\n",
      "88/88 [==============================] - 0s 440us/step - loss: 0.4463 - accuracy: 0.8093\n",
      "Epoch 25/100\n",
      "88/88 [==============================] - 0s 730us/step - loss: 0.4531 - accuracy: 0.8035\n",
      "Epoch 26/100\n",
      "88/88 [==============================] - 0s 902us/step - loss: 0.4423 - accuracy: 0.8057\n",
      "Epoch 27/100\n",
      "88/88 [==============================] - 0s 392us/step - loss: 0.4415 - accuracy: 0.8093\n",
      "Epoch 28/100\n",
      "88/88 [==============================] - 0s 409us/step - loss: 0.4452 - accuracy: 0.8057\n",
      "Epoch 29/100\n",
      "88/88 [==============================] - 0s 683us/step - loss: 0.4470 - accuracy: 0.8089\n",
      "Epoch 30/100\n",
      "88/88 [==============================] - 0s 384us/step - loss: 0.4457 - accuracy: 0.8039\n",
      "Epoch 31/100\n",
      "88/88 [==============================] - 0s 364us/step - loss: 0.4437 - accuracy: 0.8071\n",
      "Epoch 32/100\n",
      "88/88 [==============================] - 0s 363us/step - loss: 0.4379 - accuracy: 0.8071\n",
      "Epoch 33/100\n",
      "88/88 [==============================] - 0s 360us/step - loss: 0.4406 - accuracy: 0.8136\n",
      "Epoch 34/100\n",
      "88/88 [==============================] - 0s 372us/step - loss: 0.4397 - accuracy: 0.8078\n",
      "Epoch 35/100\n",
      "88/88 [==============================] - 0s 362us/step - loss: 0.4412 - accuracy: 0.8103\n",
      "Epoch 36/100\n",
      "88/88 [==============================] - 0s 361us/step - loss: 0.4403 - accuracy: 0.8093\n",
      "Epoch 37/100\n",
      "88/88 [==============================] - 0s 364us/step - loss: 0.4357 - accuracy: 0.8114\n",
      "Epoch 38/100\n",
      "88/88 [==============================] - 0s 366us/step - loss: 0.4306 - accuracy: 0.8136\n",
      "Epoch 39/100\n",
      "88/88 [==============================] - 0s 360us/step - loss: 0.4343 - accuracy: 0.8179\n",
      "Epoch 40/100\n",
      "88/88 [==============================] - 0s 364us/step - loss: 0.4310 - accuracy: 0.8179\n",
      "Epoch 41/100\n",
      "88/88 [==============================] - 0s 365us/step - loss: 0.4367 - accuracy: 0.8100\n",
      "Epoch 42/100\n",
      "88/88 [==============================] - 0s 356us/step - loss: 0.4310 - accuracy: 0.8171\n",
      "Epoch 43/100\n",
      "88/88 [==============================] - 0s 367us/step - loss: 0.4388 - accuracy: 0.8132\n",
      "Epoch 44/100\n",
      "88/88 [==============================] - 0s 362us/step - loss: 0.4361 - accuracy: 0.8118\n",
      "Epoch 45/100\n",
      "88/88 [==============================] - 0s 364us/step - loss: 0.4332 - accuracy: 0.8150\n",
      "Epoch 46/100\n",
      "88/88 [==============================] - 0s 363us/step - loss: 0.4312 - accuracy: 0.8171\n",
      "Epoch 47/100\n",
      "88/88 [==============================] - 0s 361us/step - loss: 0.4275 - accuracy: 0.8171\n",
      "Epoch 48/100\n",
      "88/88 [==============================] - 0s 362us/step - loss: 0.4258 - accuracy: 0.8179\n",
      "Epoch 49/100\n",
      "88/88 [==============================] - 0s 358us/step - loss: 0.4305 - accuracy: 0.8175\n",
      "Epoch 50/100\n",
      "88/88 [==============================] - 0s 362us/step - loss: 0.4307 - accuracy: 0.8143\n",
      "Epoch 51/100\n",
      "88/88 [==============================] - 0s 359us/step - loss: 0.4272 - accuracy: 0.8186\n",
      "Epoch 52/100\n",
      "88/88 [==============================] - 0s 561us/step - loss: 0.4282 - accuracy: 0.8218\n",
      "Epoch 53/100\n",
      "88/88 [==============================] - 0s 355us/step - loss: 0.4296 - accuracy: 0.8164\n",
      "Epoch 54/100\n",
      "88/88 [==============================] - 0s 365us/step - loss: 0.4314 - accuracy: 0.8189\n",
      "Epoch 55/100\n",
      "88/88 [==============================] - 0s 362us/step - loss: 0.4291 - accuracy: 0.8171\n",
      "Epoch 56/100\n",
      "88/88 [==============================] - 0s 358us/step - loss: 0.4279 - accuracy: 0.8132\n",
      "Epoch 57/100\n",
      "88/88 [==============================] - 0s 367us/step - loss: 0.4275 - accuracy: 0.8193\n",
      "Epoch 58/100\n",
      "88/88 [==============================] - 0s 357us/step - loss: 0.4303 - accuracy: 0.8225\n",
      "Epoch 59/100\n",
      "88/88 [==============================] - 0s 360us/step - loss: 0.4233 - accuracy: 0.8164\n",
      "Epoch 60/100\n",
      "88/88 [==============================] - 0s 368us/step - loss: 0.4269 - accuracy: 0.8182\n",
      "Epoch 61/100\n",
      "88/88 [==============================] - 0s 364us/step - loss: 0.4185 - accuracy: 0.8204\n",
      "Epoch 62/100\n",
      "88/88 [==============================] - 0s 362us/step - loss: 0.4209 - accuracy: 0.8179\n",
      "Epoch 63/100\n",
      "88/88 [==============================] - 0s 360us/step - loss: 0.4266 - accuracy: 0.8186\n",
      "Epoch 64/100\n",
      "88/88 [==============================] - 0s 360us/step - loss: 0.4215 - accuracy: 0.8236\n",
      "Epoch 65/100\n",
      "88/88 [==============================] - 0s 355us/step - loss: 0.4265 - accuracy: 0.8189\n",
      "Epoch 66/100\n",
      "88/88 [==============================] - 0s 360us/step - loss: 0.4227 - accuracy: 0.8200\n",
      "Epoch 67/100\n",
      "88/88 [==============================] - 0s 355us/step - loss: 0.4269 - accuracy: 0.8214\n",
      "Epoch 68/100\n",
      "88/88 [==============================] - 0s 355us/step - loss: 0.4210 - accuracy: 0.8196\n",
      "Epoch 69/100\n",
      "88/88 [==============================] - 0s 363us/step - loss: 0.4179 - accuracy: 0.8161\n",
      "Epoch 70/100\n",
      "88/88 [==============================] - 0s 372us/step - loss: 0.4190 - accuracy: 0.8153\n",
      "Epoch 71/100\n",
      "88/88 [==============================] - 0s 360us/step - loss: 0.4232 - accuracy: 0.8179\n",
      "Epoch 72/100\n",
      "88/88 [==============================] - 0s 369us/step - loss: 0.4194 - accuracy: 0.8240\n",
      "Epoch 73/100\n",
      "88/88 [==============================] - 0s 359us/step - loss: 0.4216 - accuracy: 0.8214\n",
      "Epoch 74/100\n",
      "88/88 [==============================] - 0s 360us/step - loss: 0.4224 - accuracy: 0.8189\n",
      "Epoch 75/100\n",
      "88/88 [==============================] - 0s 360us/step - loss: 0.4158 - accuracy: 0.8240\n",
      "Epoch 76/100\n",
      "88/88 [==============================] - 0s 362us/step - loss: 0.4185 - accuracy: 0.8175\n",
      "Epoch 77/100\n",
      "88/88 [==============================] - 0s 362us/step - loss: 0.4117 - accuracy: 0.8189\n",
      "Epoch 78/100\n",
      "88/88 [==============================] - 0s 360us/step - loss: 0.4205 - accuracy: 0.8254\n",
      "Epoch 79/100\n",
      "88/88 [==============================] - 0s 363us/step - loss: 0.4173 - accuracy: 0.8196\n",
      "Epoch 80/100\n",
      "88/88 [==============================] - 0s 402us/step - loss: 0.4206 - accuracy: 0.8204\n",
      "Epoch 81/100\n"
     ]
    },
    {
     "name": "stdout",
     "output_type": "stream",
     "text": [
      "88/88 [==============================] - 0s 363us/step - loss: 0.4201 - accuracy: 0.8222\n",
      "Epoch 82/100\n",
      "88/88 [==============================] - 0s 361us/step - loss: 0.4177 - accuracy: 0.8189\n",
      "Epoch 83/100\n",
      "88/88 [==============================] - 0s 360us/step - loss: 0.4103 - accuracy: 0.8243\n",
      "Epoch 84/100\n",
      "88/88 [==============================] - 0s 368us/step - loss: 0.4177 - accuracy: 0.8222\n",
      "Epoch 85/100\n",
      "88/88 [==============================] - 0s 357us/step - loss: 0.4134 - accuracy: 0.8200\n",
      "Epoch 86/100\n",
      "88/88 [==============================] - 0s 368us/step - loss: 0.4168 - accuracy: 0.8189\n",
      "Epoch 87/100\n",
      "88/88 [==============================] - 0s 359us/step - loss: 0.4176 - accuracy: 0.8168\n",
      "Epoch 88/100\n",
      "88/88 [==============================] - 0s 357us/step - loss: 0.4147 - accuracy: 0.8200\n",
      "Epoch 89/100\n",
      "88/88 [==============================] - 0s 356us/step - loss: 0.4171 - accuracy: 0.8236\n",
      "Epoch 90/100\n",
      "88/88 [==============================] - 0s 362us/step - loss: 0.4122 - accuracy: 0.8243\n",
      "Epoch 91/100\n",
      "88/88 [==============================] - 0s 357us/step - loss: 0.4189 - accuracy: 0.8229\n",
      "Epoch 92/100\n",
      "88/88 [==============================] - 0s 359us/step - loss: 0.4152 - accuracy: 0.8229\n",
      "Epoch 93/100\n",
      "88/88 [==============================] - 0s 358us/step - loss: 0.4033 - accuracy: 0.8229\n",
      "Epoch 94/100\n",
      "88/88 [==============================] - 0s 359us/step - loss: 0.4069 - accuracy: 0.8290\n",
      "Epoch 95/100\n",
      "88/88 [==============================] - 0s 361us/step - loss: 0.4118 - accuracy: 0.8200\n",
      "Epoch 96/100\n",
      "88/88 [==============================] - 0s 358us/step - loss: 0.4075 - accuracy: 0.8268\n",
      "Epoch 97/100\n",
      "88/88 [==============================] - 0s 360us/step - loss: 0.4118 - accuracy: 0.8243\n",
      "Epoch 98/100\n",
      "88/88 [==============================] - 0s 354us/step - loss: 0.4111 - accuracy: 0.8196\n",
      "Epoch 99/100\n",
      "88/88 [==============================] - 0s 355us/step - loss: 0.4119 - accuracy: 0.8243\n",
      "Epoch 100/100\n",
      "88/88 [==============================] - 0s 607us/step - loss: 0.4130 - accuracy: 0.8200\n"
     ]
    },
    {
     "data": {
      "text/plain": [
       "<keras.src.callbacks.History at 0x17e79bfd0>"
      ]
     },
     "execution_count": 17,
     "metadata": {},
     "output_type": "execute_result"
    }
   ],
   "source": [
    "\n",
    "model.fit(X_train, y_train, epochs=100, batch_size=32)"
   ]
  },
  {
   "cell_type": "code",
   "execution_count": 18,
   "metadata": {
    "colab": {
     "base_uri": "https://localhost:8080/"
    },
    "id": "jghwnwcL_guc",
    "outputId": "6788086f-ab83-4565-aeff-f12430081c2e"
   },
   "outputs": [
    {
     "name": "stdout",
     "output_type": "stream",
     "text": [
      "38/38 [==============================] - 0s 309us/step\n",
      "Accuracy: 0.8068561872909699\n",
      "Precision: 0.7230043804166109\n",
      "Recall: 0.6797976161907048\n",
      "F1 Score: 0.7007356070084545\n"
     ]
    }
   ],
   "source": [
    "from sklearn.metrics import classification_report, accuracy_score, precision_score, recall_score, f1_score\n",
    "\n",
    "y_pred_prob = model.predict(X_val)\n",
    "y_pred = (y_pred_prob > 0.5).astype(int)\n",
    "y_pred_int = np.argmax(y_pred, axis=1)\n",
    "y_val = np.array(y_val)\n",
    "y_val_int = np.argmax(y_val, axis=1)\n",
    "\n",
    "\n",
    "accuracy = accuracy_score(y_val_int, y_pred_int)\n",
    "\n",
    "# Calculating precision, recall, and F1 score with 'macro' averaging\n",
    "precision = precision_score(y_val_int, y_pred_int, average='macro')\n",
    "recall = recall_score(y_val_int, y_pred_int, average='macro')\n",
    "F1 = 2 * (precision * recall) / (precision + recall)\n",
    "\n",
    "print(\"Accuracy:\", accuracy)\n",
    "print(\"Precision:\", precision)\n",
    "print(\"Recall:\", recall)\n",
    "print(\"F1 Score:\", F1)"
   ]
  },
  {
   "cell_type": "code",
   "execution_count": 19,
   "metadata": {
    "colab": {
     "base_uri": "https://localhost:8080/",
     "height": 564
    },
    "id": "Cs7CkXWC_guc",
    "outputId": "20f94f79-94e2-4d90-b795-a98d47d90139"
   },
   "outputs": [
    {
     "data": {
      "image/png": "[encoded data removed]",
      "text/plain": [
       "<Figure size 800x600 with 1 Axes>"
      ]
     },
     "metadata": {},
     "output_type": "display_data"
    }
   ],
   "source": [
    "# Plotting the ROC curve \n",
    "import matplotlib.pyplot as plt\n",
    "from sklearn.metrics import roc_curve, auc\n",
    "\n",
    "#  ROC curve and ROC area\n",
    "fpr, tpr, _ = roc_curve(y_val_int, y_pred_int)\n",
    "roc_auc = auc(fpr, tpr)\n",
    "\n",
    "\n",
    "plt.figure(figsize=(8, 6))\n",
    "plt.plot(fpr, tpr, color='blue', lw=2, label=f'ROC curve (AUC = {roc_auc:.2f})')\n",
    "plt.plot([0, 1], [0, 1], color='black', linestyle='--')\n",
    "plt.xlabel('False Positive Rate')\n",
    "plt.ylabel('True Positive Rate')\n",
    "plt.title('Receiver Operating Characteristic (ROC) Curve')\n",
    "plt.legend(loc='lower right')\n",
    "plt.show()"
   ]
  },
  {
   "cell_type": "markdown",
   "metadata": {
    "id": "3UyHYWaAtlOm"
   },
   "source": [
    "The credit default dataset is often imbalanced, where the number of defaulters might be significantly lower than non-defaulters. In this cases, we have 920 defaulters and 3065 non-defaulters in the dataset. If the model predicts all instances as non-defaulters, it could achieve a high accuracy due to the imbalance, but it wouldn't be useful in practical terms for identifying defaults."
   ]
  },
  {
   "cell_type": "markdown",
   "metadata": {
    "id": "SjZQ940YWQSW"
   },
   "source": [
    "#### Tuning hyperparameters using cross-validation:<br/>\n",
    "Cross-validation in neural networks is computationally expensive. So we will perform a randomized cross-validation search across the parameter space using RandomizedSearchCV function.\n",
    "\n",
    "Here, we will use KerasClassifier class, which act as a wrapper of scikit-learn’s library in Keras comes as a handy tool for automating the tuning process."
   ]
  },
  {
   "cell_type": "code",
   "execution_count": 20,
   "metadata": {
    "colab": {
     "base_uri": "https://localhost:8080/"
    },
    "id": "h6Xs3WAcAO6u",
    "outputId": "3ed498be-ecdc-4be6-c17f-cc4ec716256f"
   },
   "outputs": [
    {
     "name": "stdout",
     "output_type": "stream",
     "text": [
      "Collecting scikeras\n",
      "  Obtaining dependency information for scikeras from https://files.pythonhosted.org/packages/5d/fa/9c1967952e7889d698f10ba8b6af79dfaa2e05178d97a79fbd9d1b44e589/scikeras-0.12.0-py3-none-any.whl.metadata\n",
      "  Downloading scikeras-0.12.0-py3-none-any.whl.metadata (4.0 kB)\n",
      "Requirement already satisfied: packaging>=0.21 in /Users/mishika/anaconda3/lib/python3.11/site-packages (from scikeras) (23.0)\n",
      "Requirement already satisfied: scikit-learn>=1.0.0 in /Users/mishika/anaconda3/lib/python3.11/site-packages (from scikeras) (1.3.0)\n",
      "Collecting tensorflow-metal<2.0.0,>=1.1.0 (from scikeras)\n",
      "  Obtaining dependency information for tensorflow-metal<2.0.0,>=1.1.0 from https://files.pythonhosted.org/packages/52/56/8373f5751011304a346f07e5423e69f809b626989d2541ae9e816ae7ced2/tensorflow_metal-1.1.0-cp311-cp311-macosx_12_0_arm64.whl.metadata\n",
      "  Downloading tensorflow_metal-1.1.0-cp311-cp311-macosx_12_0_arm64.whl.metadata (1.2 kB)\n",
      "Requirement already satisfied: numpy>=1.17.3 in /Users/mishika/anaconda3/lib/python3.11/site-packages (from scikit-learn>=1.0.0->scikeras) (1.24.3)\n",
      "Requirement already satisfied: scipy>=1.5.0 in /Users/mishika/anaconda3/lib/python3.11/site-packages (from scikit-learn>=1.0.0->scikeras) (1.10.1)\n",
      "Requirement already satisfied: joblib>=1.1.1 in /Users/mishika/anaconda3/lib/python3.11/site-packages (from scikit-learn>=1.0.0->scikeras) (1.2.0)\n",
      "Requirement already satisfied: threadpoolctl>=2.0.0 in /Users/mishika/anaconda3/lib/python3.11/site-packages (from scikit-learn>=1.0.0->scikeras) (2.2.0)\n",
      "Requirement already satisfied: wheel~=0.35 in /Users/mishika/anaconda3/lib/python3.11/site-packages (from tensorflow-metal<2.0.0,>=1.1.0->scikeras) (0.38.4)\n",
      "Requirement already satisfied: six>=1.15.0 in /Users/mishika/anaconda3/lib/python3.11/site-packages (from tensorflow-metal<2.0.0,>=1.1.0->scikeras) (1.16.0)\n",
      "Downloading scikeras-0.12.0-py3-none-any.whl (27 kB)\n",
      "Downloading tensorflow_metal-1.1.0-cp311-cp311-macosx_12_0_arm64.whl (1.4 MB)\n",
      "\u001b[2K   \u001b[90m━━━━━━━━━━━━━━━━━━━━━━━━━━━━━━━━━━━━━━━━\u001b[0m \u001b[32m1.4/1.4 MB\u001b[0m \u001b[31m10.2 MB/s\u001b[0m eta \u001b[36m0:00:00\u001b[0ma \u001b[36m0:00:01\u001b[0m\n",
      "\u001b[?25hInstalling collected packages: tensorflow-metal, scikeras\n",
      "Successfully installed scikeras-0.12.0 tensorflow-metal-1.1.0\n",
      "Note: you may need to restart the kernel to use updated packages.\n"
     ]
    }
   ],
   "source": [
    "pip install scikeras"
   ]
  },
  {
   "cell_type": "code",
   "execution_count": 21,
   "metadata": {
    "id": "O6t4j_UJWPYb"
   },
   "outputs": [],
   "source": [
    "from sklearn.model_selection import RandomizedSearchCV\n",
    "from scikeras.wrappers import KerasClassifier"
   ]
  },
  {
   "cell_type": "code",
   "execution_count": 22,
   "metadata": {
    "id": "pOvla-Yf4rca"
   },
   "outputs": [],
   "source": [
    "# create_model function with activation function and learning rate of SGD as parameters\n",
    "def create_model(params):\n",
    "    opt = SGD(learning_rate=params[\"learning_rate\"], decay=1e-7, momentum=.9)\n",
    "    model = Sequential()\n",
    "    model.add(Dense(units=64, input_dim=97, activation=params[\"activation\"]))\n",
    "    model.add(Dense(units=128, activation=params[\"activation\"]))\n",
    "    model.add(Dense(units=256, activation=params[\"activation\"]))\n",
    "    model.add(Dense(units=2, activation='softmax'))\n",
    "    model.compile(optimizer=opt, loss='categorical_crossentropy', metrics=[\"accuracy\"])\n",
    "    return model"
   ]
  },
  {
   "cell_type": "code",
   "execution_count": 23,
   "metadata": {
    "id": "Wq-48iSOMGRd"
   },
   "outputs": [],
   "source": [
    "model = KerasClassifier(model=lambda **params: create_model(params), verbose=0)"
   ]
  },
  {
   "cell_type": "markdown",
   "metadata": {
    "id": "dTQgcA8dMfIL"
   },
   "source": [
    "Using the following hyperparameters:\n",
    "\n",
    "- activation function: relu, tanh\n",
    "\n",
    "- batch size: 16, 32 and 64\n",
    "\n",
    "- epochs: 100, 200 and 500\n",
    "\n",
    "- learning rate: 0.01, 0.001 and 0.0001\n",
    "\n"
   ]
  },
  {
   "cell_type": "code",
   "execution_count": 24,
   "metadata": {
    "id": "Mldddf7RMcJn"
   },
   "outputs": [],
   "source": [
    "\n",
    "param_grid = {\n",
    "    'model__activation': ['relu', 'tanh'],\n",
    "    'batch_size': [16, 32, 64],\n",
    "    'epochs': [100, 200, 500],\n",
    "    'model__learning_rate': [0.01, 0.001, 0.0001]\n",
    "}"
   ]
  },
  {
   "cell_type": "markdown",
   "metadata": {
    "id": "OugTwxjcNwG_"
   },
   "source": [
    "Next we perform a randomized cross-validation search across the parameter space using RandomizedSearchCV function. We select the randomized search as it works faster than a grid search. Here, we will perform a 5-fold cross-validation search."
   ]
  },
  {
   "cell_type": "code",
   "execution_count": null,
   "metadata": {
    "id": "-O8EPPiDNsoI"
   },
   "outputs": [],
   "source": [
    "random_search = RandomizedSearchCV(estimator=model, param_distributions=param_grid, cv=5, n_iter=10, random_state=42)"
   ]
  },
  {
   "cell_type": "code",
   "execution_count": null,
   "metadata": {
    "id": "n7HSam2xOVx1"
   },
   "outputs": [],
   "source": [
    "random_search_results = random_search.fit(X_train, y_train) ## may take several hours"
   ]
  },
  {
   "cell_type": "code",
   "execution_count": null,
   "metadata": {
    "colab": {
     "base_uri": "https://localhost:8080/"
    },
    "id": "qHnyRJlxW75H",
    "outputId": "a185f98f-bc3d-44d7-8011-44723048fc2a"
   },
   "outputs": [
    {
     "name": "stdout",
     "output_type": "stream",
     "text": [
      "{'model__learning_rate': 0.0001, 'model__activation': 'tanh', 'epochs': 100, 'batch_size': 16}\n",
      "0.8153381852345193\n"
     ]
    }
   ],
   "source": [
    "#best model parameters\n",
    "print(random_search.best_params_)\n",
    "print(random_search_results.best_score_)"
   ]
  },
  {
   "cell_type": "code",
   "execution_count": null,
   "metadata": {
    "colab": {
     "base_uri": "https://localhost:8080/"
    },
    "id": "yAR5UKtrXUd_",
    "outputId": "26816208-1643-4b98-9660-6458ad4b0139"
   },
   "outputs": [
    {
     "name": "stdout",
     "output_type": "stream",
     "text": [
      "Epoch 1/100\n",
      "175/175 [==============================] - 1s 4ms/step - loss: 0.6016 - accuracy: 0.6902\n",
      "Epoch 2/100\n",
      "175/175 [==============================] - 1s 4ms/step - loss: 0.5291 - accuracy: 0.7655\n",
      "Epoch 3/100\n",
      "175/175 [==============================] - 1s 7ms/step - loss: 0.5058 - accuracy: 0.7684\n",
      "Epoch 4/100\n",
      "175/175 [==============================] - 1s 8ms/step - loss: 0.4919 - accuracy: 0.7734\n",
      "Epoch 5/100\n",
      "175/175 [==============================] - 1s 5ms/step - loss: 0.4820 - accuracy: 0.7788\n",
      "Epoch 6/100\n",
      "175/175 [==============================] - 1s 4ms/step - loss: 0.4745 - accuracy: 0.7831\n",
      "Epoch 7/100\n",
      "175/175 [==============================] - 1s 4ms/step - loss: 0.4685 - accuracy: 0.7820\n",
      "Epoch 8/100\n",
      "175/175 [==============================] - 1s 4ms/step - loss: 0.4640 - accuracy: 0.7859\n",
      "Epoch 9/100\n",
      "175/175 [==============================] - 1s 5ms/step - loss: 0.4603 - accuracy: 0.7902\n",
      "Epoch 10/100\n",
      "175/175 [==============================] - 1s 4ms/step - loss: 0.4574 - accuracy: 0.7928\n",
      "Epoch 11/100\n",
      "175/175 [==============================] - 1s 5ms/step - loss: 0.4552 - accuracy: 0.7949\n",
      "Epoch 12/100\n",
      "175/175 [==============================] - 1s 4ms/step - loss: 0.4532 - accuracy: 0.7967\n",
      "Epoch 13/100\n",
      "175/175 [==============================] - 1s 4ms/step - loss: 0.4514 - accuracy: 0.7967\n",
      "Epoch 14/100\n",
      "175/175 [==============================] - 1s 4ms/step - loss: 0.4501 - accuracy: 0.7989\n",
      "Epoch 15/100\n",
      "175/175 [==============================] - 1s 4ms/step - loss: 0.4488 - accuracy: 0.8028\n",
      "Epoch 16/100\n",
      "175/175 [==============================] - 1s 5ms/step - loss: 0.4478 - accuracy: 0.8039\n",
      "Epoch 17/100\n",
      "175/175 [==============================] - 1s 6ms/step - loss: 0.4469 - accuracy: 0.8053\n",
      "Epoch 18/100\n",
      "175/175 [==============================] - 1s 7ms/step - loss: 0.4460 - accuracy: 0.8067\n",
      "Epoch 19/100\n",
      "175/175 [==============================] - 1s 8ms/step - loss: 0.4451 - accuracy: 0.8064\n",
      "Epoch 20/100\n",
      "175/175 [==============================] - 1s 8ms/step - loss: 0.4444 - accuracy: 0.8082\n",
      "Epoch 21/100\n",
      "175/175 [==============================] - 1s 6ms/step - loss: 0.4438 - accuracy: 0.8071\n",
      "Epoch 22/100\n",
      "175/175 [==============================] - 1s 6ms/step - loss: 0.4432 - accuracy: 0.8078\n",
      "Epoch 23/100\n",
      "175/175 [==============================] - 1s 5ms/step - loss: 0.4426 - accuracy: 0.8067\n",
      "Epoch 24/100\n",
      "175/175 [==============================] - 1s 5ms/step - loss: 0.4419 - accuracy: 0.8078\n",
      "Epoch 25/100\n",
      "175/175 [==============================] - 1s 6ms/step - loss: 0.4414 - accuracy: 0.8075\n",
      "Epoch 26/100\n",
      "175/175 [==============================] - 1s 6ms/step - loss: 0.4410 - accuracy: 0.8082\n",
      "Epoch 27/100\n",
      "175/175 [==============================] - 1s 6ms/step - loss: 0.4404 - accuracy: 0.8096\n",
      "Epoch 28/100\n",
      "175/175 [==============================] - 1s 5ms/step - loss: 0.4401 - accuracy: 0.8107\n",
      "Epoch 29/100\n",
      "175/175 [==============================] - 1s 4ms/step - loss: 0.4395 - accuracy: 0.8096\n",
      "Epoch 30/100\n",
      "175/175 [==============================] - 1s 4ms/step - loss: 0.4392 - accuracy: 0.8125\n",
      "Epoch 31/100\n",
      "175/175 [==============================] - 1s 4ms/step - loss: 0.4389 - accuracy: 0.8118\n",
      "Epoch 32/100\n",
      "175/175 [==============================] - 1s 7ms/step - loss: 0.4385 - accuracy: 0.8114\n",
      "Epoch 33/100\n",
      "175/175 [==============================] - 2s 11ms/step - loss: 0.4382 - accuracy: 0.8136\n",
      "Epoch 34/100\n",
      "175/175 [==============================] - 2s 9ms/step - loss: 0.4379 - accuracy: 0.8125\n",
      "Epoch 35/100\n",
      "175/175 [==============================] - 1s 6ms/step - loss: 0.4374 - accuracy: 0.8118\n",
      "Epoch 36/100\n",
      "175/175 [==============================] - 1s 6ms/step - loss: 0.4373 - accuracy: 0.8139\n",
      "Epoch 37/100\n",
      "175/175 [==============================] - 1s 5ms/step - loss: 0.4369 - accuracy: 0.8132\n",
      "Epoch 38/100\n",
      "175/175 [==============================] - 1s 6ms/step - loss: 0.4366 - accuracy: 0.8121\n",
      "Epoch 39/100\n",
      "175/175 [==============================] - 1s 4ms/step - loss: 0.4364 - accuracy: 0.8114\n",
      "Epoch 40/100\n",
      "175/175 [==============================] - 1s 5ms/step - loss: 0.4362 - accuracy: 0.8132\n",
      "Epoch 41/100\n",
      "175/175 [==============================] - 1s 5ms/step - loss: 0.4359 - accuracy: 0.8128\n",
      "Epoch 42/100\n",
      "175/175 [==============================] - 0s 2ms/step - loss: 0.4356 - accuracy: 0.8146\n",
      "Epoch 43/100\n",
      "175/175 [==============================] - 0s 2ms/step - loss: 0.4355 - accuracy: 0.8157\n",
      "Epoch 44/100\n",
      "175/175 [==============================] - 0s 2ms/step - loss: 0.4353 - accuracy: 0.8150\n",
      "Epoch 45/100\n",
      "175/175 [==============================] - 0s 2ms/step - loss: 0.4352 - accuracy: 0.8139\n",
      "Epoch 46/100\n",
      "175/175 [==============================] - 0s 2ms/step - loss: 0.4348 - accuracy: 0.8161\n",
      "Epoch 47/100\n",
      "175/175 [==============================] - 0s 2ms/step - loss: 0.4349 - accuracy: 0.8168\n",
      "Epoch 48/100\n",
      "175/175 [==============================] - 0s 2ms/step - loss: 0.4347 - accuracy: 0.8179\n",
      "Epoch 49/100\n",
      "175/175 [==============================] - 0s 3ms/step - loss: 0.4342 - accuracy: 0.8168\n",
      "Epoch 50/100\n",
      "175/175 [==============================] - 1s 3ms/step - loss: 0.4342 - accuracy: 0.8171\n",
      "Epoch 51/100\n",
      "175/175 [==============================] - 1s 3ms/step - loss: 0.4341 - accuracy: 0.8179\n",
      "Epoch 52/100\n",
      "175/175 [==============================] - 1s 3ms/step - loss: 0.4338 - accuracy: 0.8186\n",
      "Epoch 53/100\n",
      "175/175 [==============================] - 1s 3ms/step - loss: 0.4335 - accuracy: 0.8164\n",
      "Epoch 54/100\n",
      "175/175 [==============================] - 1s 4ms/step - loss: 0.4335 - accuracy: 0.8186\n",
      "Epoch 55/100\n",
      "175/175 [==============================] - 1s 3ms/step - loss: 0.4335 - accuracy: 0.8161\n",
      "Epoch 56/100\n",
      "175/175 [==============================] - 0s 3ms/step - loss: 0.4333 - accuracy: 0.8161\n",
      "Epoch 57/100\n",
      "175/175 [==============================] - 0s 2ms/step - loss: 0.4330 - accuracy: 0.8175\n",
      "Epoch 58/100\n",
      "175/175 [==============================] - 0s 2ms/step - loss: 0.4328 - accuracy: 0.8175\n",
      "Epoch 59/100\n",
      "175/175 [==============================] - 0s 3ms/step - loss: 0.4327 - accuracy: 0.8171\n",
      "Epoch 60/100\n",
      "175/175 [==============================] - 0s 2ms/step - loss: 0.4326 - accuracy: 0.8179\n",
      "Epoch 61/100\n",
      "175/175 [==============================] - 0s 2ms/step - loss: 0.4325 - accuracy: 0.8189\n",
      "Epoch 62/100\n",
      "175/175 [==============================] - 0s 2ms/step - loss: 0.4323 - accuracy: 0.8168\n",
      "Epoch 63/100\n",
      "175/175 [==============================] - 0s 2ms/step - loss: 0.4323 - accuracy: 0.8157\n",
      "Epoch 64/100\n",
      "175/175 [==============================] - 0s 3ms/step - loss: 0.4321 - accuracy: 0.8179\n",
      "Epoch 65/100\n",
      "175/175 [==============================] - 0s 2ms/step - loss: 0.4319 - accuracy: 0.8175\n",
      "Epoch 66/100\n",
      "175/175 [==============================] - 0s 2ms/step - loss: 0.4319 - accuracy: 0.8179\n",
      "Epoch 67/100\n",
      "175/175 [==============================] - 0s 2ms/step - loss: 0.4318 - accuracy: 0.8182\n",
      "Epoch 68/100\n",
      "175/175 [==============================] - 0s 2ms/step - loss: 0.4318 - accuracy: 0.8179\n",
      "Epoch 69/100\n",
      "175/175 [==============================] - 0s 2ms/step - loss: 0.4314 - accuracy: 0.8182\n",
      "Epoch 70/100\n",
      "175/175 [==============================] - 0s 2ms/step - loss: 0.4315 - accuracy: 0.8175\n",
      "Epoch 71/100\n",
      "175/175 [==============================] - 0s 2ms/step - loss: 0.4314 - accuracy: 0.8186\n",
      "Epoch 72/100\n",
      "175/175 [==============================] - 0s 2ms/step - loss: 0.4313 - accuracy: 0.8182\n",
      "Epoch 73/100\n",
      "175/175 [==============================] - 0s 2ms/step - loss: 0.4311 - accuracy: 0.8193\n",
      "Epoch 74/100\n",
      "175/175 [==============================] - 0s 2ms/step - loss: 0.4310 - accuracy: 0.8179\n",
      "Epoch 75/100\n",
      "175/175 [==============================] - 0s 2ms/step - loss: 0.4309 - accuracy: 0.8200\n",
      "Epoch 76/100\n",
      "175/175 [==============================] - 0s 2ms/step - loss: 0.4308 - accuracy: 0.8193\n",
      "Epoch 77/100\n",
      "175/175 [==============================] - 0s 2ms/step - loss: 0.4307 - accuracy: 0.8193\n",
      "Epoch 78/100\n",
      "175/175 [==============================] - 0s 2ms/step - loss: 0.4306 - accuracy: 0.8189\n",
      "Epoch 79/100\n",
      "175/175 [==============================] - 0s 2ms/step - loss: 0.4307 - accuracy: 0.8193\n",
      "Epoch 80/100\n",
      "175/175 [==============================] - 1s 3ms/step - loss: 0.4303 - accuracy: 0.8193\n",
      "Epoch 81/100\n",
      "175/175 [==============================] - 1s 3ms/step - loss: 0.4303 - accuracy: 0.8193\n",
      "Epoch 82/100\n",
      "175/175 [==============================] - 1s 4ms/step - loss: 0.4302 - accuracy: 0.8207\n",
      "Epoch 83/100\n",
      "175/175 [==============================] - 1s 3ms/step - loss: 0.4301 - accuracy: 0.8193\n",
      "Epoch 84/100\n",
      "175/175 [==============================] - 1s 3ms/step - loss: 0.4300 - accuracy: 0.8211\n",
      "Epoch 85/100\n",
      "175/175 [==============================] - 1s 4ms/step - loss: 0.4299 - accuracy: 0.8204\n",
      "Epoch 86/100\n",
      "175/175 [==============================] - 0s 2ms/step - loss: 0.4299 - accuracy: 0.8182\n",
      "Epoch 87/100\n",
      "175/175 [==============================] - 0s 2ms/step - loss: 0.4296 - accuracy: 0.8207\n",
      "Epoch 88/100\n",
      "175/175 [==============================] - 0s 2ms/step - loss: 0.4296 - accuracy: 0.8189\n",
      "Epoch 89/100\n",
      "175/175 [==============================] - 0s 2ms/step - loss: 0.4297 - accuracy: 0.8196\n",
      "Epoch 90/100\n",
      "175/175 [==============================] - 0s 2ms/step - loss: 0.4295 - accuracy: 0.8189\n",
      "Epoch 91/100\n",
      "175/175 [==============================] - 0s 2ms/step - loss: 0.4295 - accuracy: 0.8200\n",
      "Epoch 92/100\n",
      "175/175 [==============================] - 0s 2ms/step - loss: 0.4292 - accuracy: 0.8204\n",
      "Epoch 93/100\n",
      "175/175 [==============================] - 0s 2ms/step - loss: 0.4291 - accuracy: 0.8211\n",
      "Epoch 94/100\n",
      "175/175 [==============================] - 0s 2ms/step - loss: 0.4290 - accuracy: 0.8200\n",
      "Epoch 95/100\n",
      "175/175 [==============================] - 0s 2ms/step - loss: 0.4292 - accuracy: 0.8204\n",
      "Epoch 96/100\n",
      "175/175 [==============================] - 0s 2ms/step - loss: 0.4289 - accuracy: 0.8189\n",
      "Epoch 97/100\n",
      "175/175 [==============================] - 0s 2ms/step - loss: 0.4290 - accuracy: 0.8193\n",
      "Epoch 98/100\n",
      "175/175 [==============================] - 0s 2ms/step - loss: 0.4287 - accuracy: 0.8204\n",
      "Epoch 99/100\n",
      "175/175 [==============================] - 0s 2ms/step - loss: 0.4288 - accuracy: 0.8204\n",
      "Epoch 100/100\n",
      "175/175 [==============================] - 0s 2ms/step - loss: 0.4286 - accuracy: 0.8200\n",
      "38/38 [==============================] - 0s 2ms/step - loss: 0.4400 - accuracy: 0.8244\n",
      "Loss: 0.43999090790748596\n",
      "Accuracy: 0.8244147300720215\n"
     ]
    }
   ],
   "source": [
    "# Fitting the model with the Best Parameter Set\n",
    "params = random_search_results.best_params_\n",
    "params_1 = {k.replace(\"model__\", \"\"): v for k, v in params.items()}\n",
    "best_model = create_model(params_1)\n",
    "best_model.fit(X_train, y_train, params_1.get('batch_size', 32), epochs=params_1.get('epochs', 100))\n",
    "\n",
    "loss, accuracy = best_model.evaluate(X_val, y_val)\n",
    "print(\"Loss:\", loss)\n",
    "print(\"Accuracy:\", accuracy)\n"
   ]
  },
  {
   "cell_type": "code",
   "execution_count": null,
   "metadata": {
    "colab": {
     "base_uri": "https://localhost:8080/"
    },
    "id": "gAq4vXhDa80L",
    "outputId": "70c500a1-6fee-4ba9-c19a-ff1bab244c46"
   },
   "outputs": [
    {
     "name": "stdout",
     "output_type": "stream",
     "text": [
      "38/38 [==============================] - 0s 2ms/step\n",
      "Accuracy: 0.8244147157190636\n",
      "Precision: 0.7613536675889061\n",
      "Recall: 0.6858891288696904\n",
      "F1 Score: 0.7216538995421259\n"
     ]
    }
   ],
   "source": [
    "\n",
    "import numpy as np\n",
    "from sklearn.metrics import accuracy_score, precision_score, recall_score, f1_score\n",
    "y_val_pred = best_model.predict(X_val)\n",
    "y_pred_int = np.argmax(y_val_pred, axis=1)\n",
    "y_val = np.array(y_val)\n",
    "y_val_int = np.argmax(y_val, axis=1)\n",
    "\n",
    "\n",
    "accuracy = accuracy_score(y_val_int, y_pred_int)\n",
    "\n",
    "\n",
    "precision = precision_score(y_val_int, y_pred_int, average='macro')\n",
    "recall = recall_score(y_val_int, y_pred_int, average='macro')\n",
    "F1 = 2 * (precision * recall) / (precision + recall)\n",
    "\n",
    "print(\"Accuracy:\", accuracy)\n",
    "print(\"Precision:\", precision)\n",
    "print(\"Recall:\", recall)\n",
    "print(\"F1 Score:\", F1)\n"
   ]
  },
  {
   "cell_type": "markdown",
   "metadata": {
    "id": "09X3OxlixWRk"
   },
   "source": [
    "This model with the best parameter set performs better than the first neural network model since it has a higher value on accuracy, precision, recall, and F1 score. The reason is that hyperparameter tuning aims to improve the model's ability to generalize well to unseen data. By finding the best hyperparameters through techniques like random search, the model becomes less prone to overfitting and performs better on new, unseen data.\n"
   ]
  },
  {
   "cell_type": "markdown",
   "metadata": {
    "id": "LAkhIzsh_guc"
   },
   "source": [
    "### Modeling - Part 2  (Logistic Regression and Random Forest)\n"
   ]
  },
  {
   "cell_type": "code",
   "execution_count": null,
   "metadata": {
    "id": "OxvUsf7I_guc"
   },
   "outputs": [],
   "source": [
    "def logistic_regression_model(X_train, y_train):\n",
    "   \n",
    "  param_grid = {\n",
    "        'C': [0.001, 0.01, 0.1, 1, 10, 100],  # Inverse of regularization strength\n",
    "        'penalty': ['l1', 'l2'],  # Regularization type\n",
    "        'solver': ['liblinear', 'saga']\n",
    "    }\n",
    "\n",
    "    # Create a logistic regression model\n",
    "  logistic_reg = LogisticRegression(max_iter=350)\n",
    "\n",
    "    # Create GridSearchCV to find the best parameters\n",
    "  grid_search = GridSearchCV(logistic_reg, param_grid, cv=5, scoring='accuracy', n_jobs=-1)\n",
    "\n",
    "\n",
    "    # Get the best logistic regression model with the best parameters\n",
    "  grid_result = grid_search.fit(X_train,y_train)\n",
    "  best_logistic_model = grid_result.best_estimator_\n",
    "\n",
    "  return best_logistic_model"
   ]
  },
  {
   "cell_type": "code",
   "execution_count": null,
   "metadata": {
    "colab": {
     "base_uri": "https://localhost:8080/"
    },
    "id": "2HmLPe08_guc",
    "outputId": "7064bd6e-6099-4ff6-ae4c-b177df785cba"
   },
   "outputs": [
    {
     "name": "stderr",
     "output_type": "stream",
     "text": [
      "/usr/local/lib/python3.10/dist-packages/sklearn/linear_model/_sag.py:350: ConvergenceWarning: The max_iter was reached which means the coef_ did not converge\n",
      "  warnings.warn(\n",
      "/usr/local/lib/python3.10/dist-packages/sklearn/linear_model/_sag.py:350: ConvergenceWarning: The max_iter was reached which means the coef_ did not converge\n",
      "  warnings.warn(\n"
     ]
    }
   ],
   "source": [
    "# fitting the model\n",
    "\n",
    "from sklearn.metrics import accuracy_score, precision_score, recall_score, f1_score\n",
    "from sklearn.model_selection import train_test_split\n",
    "\n",
    "# Assuming we have X_train, y_train, X_val, and y_val\n",
    "\n",
    "# Splitting the training set into training and validation sets\n",
    "X_train, X_val, y_train, y_val = train_test_split(X_train, y_train, test_size=0.2, random_state=42)\n",
    "\n",
    "# Obtaining the best logistic regression model\n",
    "best_logistic_model = logistic_regression_model(X_train, y_train.iloc[:,1])\n",
    "\n",
    "# Fitting the model on the training set\n",
    "best_logistic_model.fit(X_train, y_train.iloc[:,1])\n",
    "\n",
    "# Obtaining predictions on the validation set\n",
    "y_pred = best_logistic_model.predict(X_val)\n"
   ]
  },
  {
   "cell_type": "code",
   "execution_count": null,
   "metadata": {
    "colab": {
     "base_uri": "https://localhost:8080/"
    },
    "id": "0RqkeJG67a-Q",
    "outputId": "81bc96d5-3e71-425d-874b-be29ec67ac10"
   },
   "outputs": [
    {
     "name": "stdout",
     "output_type": "stream",
     "text": [
      "Accuracy: 0.8172\n",
      "Precision: 0.7576\n",
      "Recall: 0.3676\n",
      "F1 Score: 0.4950\n"
     ]
    }
   ],
   "source": [
    "\n",
    "accuracy = accuracy_score(y_val.iloc[:,1], y_pred)\n",
    "precision = precision_score(y_val.iloc[:,1], y_pred)\n",
    "recall = recall_score(y_val.iloc[:,1], y_pred)\n",
    "f1 = f1_score(y_val.iloc[:,1], y_pred)\n",
    "\n",
    "\n",
    "print(f\"Accuracy: {accuracy:.4f}\")\n",
    "print(f\"Precision: {precision:.4f}\")\n",
    "print(f\"Recall: {recall:.4f}\")\n",
    "print(f\"F1 Score: {f1:.4f}\")"
   ]
  },
  {
   "cell_type": "code",
   "execution_count": null,
   "metadata": {
    "colab": {
     "base_uri": "https://localhost:8080/",
     "height": 718
    },
    "id": "1cvXDdiH_guc",
    "outputId": "46319797-d235-4210-83e7-bb664c3f54b7"
   },
   "outputs": [
    {
     "data": {
      "image/png": "[encoded data removed]",
      "text/plain": [
       "<Figure size 800x800 with 1 Axes>"
      ]
     },
     "metadata": {},
     "output_type": "display_data"
    }
   ],
   "source": [
    "\n",
    "from sklearn.metrics import roc_curve, auc\n",
    "import matplotlib.pyplot as plt\n",
    "\n",
    "y_prob = best_logistic_model.predict_proba(X_val)[:, 1]\n",
    "\n",
    "fpr, tpr, thresholds = roc_curve(y_val.iloc[:,1], y_prob)\n",
    "roc_auc = auc(fpr, tpr)\n",
    "\n",
    "\n",
    "plt.figure(figsize=(8, 8))\n",
    "plt.plot(fpr, tpr, color='darkorange', lw=2, label=f'ROC curve (AUC = {roc_auc:.2f})')\n",
    "plt.plot([0, 1], [0, 1], color='navy', lw=2, linestyle='--')\n",
    "plt.xlabel('False Positive Rate')\n",
    "plt.ylabel('True Positive Rate')\n",
    "plt.title('Receiver Operating Characteristic (ROC) Curve')\n",
    "plt.legend(loc='lower right')\n",
    "plt.show()"
   ]
  },
  {
   "cell_type": "markdown",
   "metadata": {
    "id": "UrJqeP4wnAlp"
   },
   "source": [
    "Implementing a function random_forest_model that returns a random forest model with the best paprameters. Applying GridSearchCV to find the best parameters"
   ]
  },
  {
   "cell_type": "code",
   "execution_count": null,
   "metadata": {
    "id": "6FwUS0At_guc"
   },
   "outputs": [],
   "source": [
    "def random_forest_model(X_train, y_train):\n",
    "    rf = RandomForestClassifier(random_state=26) # random state = 26\n",
    "    ### YOUR CODE HERE ###\n",
    "# Define the parameter grid to search\n",
    "    param_grid = {\n",
    "        'n_estimators': [50, 100, 150],        # Number of trees in the forest\n",
    "        'max_depth': [None, 10, 20, 30],        # Maximum depth of the tree\n",
    "        'min_samples_split': [2, 5, 10],        # Minimum number of samples required to split an internal node\n",
    "        'min_samples_leaf': [1, 2, 4],          # Minimum number of samples required to be at a leaf node\n",
    "        'max_features': ['auto', 'sqrt', 'log2']  # Number of features to consider for the best split\n",
    "    }\n",
    "\n",
    "    # Create GridSearchCV to find the best parameters\n",
    "    grid_search = GridSearchCV(rf, param_grid, cv=5, scoring='accuracy', n_jobs=-1)\n",
    "\n",
    "    # Fit the GridSearchCV on the training data\n",
    "    grid_search.fit(X_train, y_train)\n",
    "\n",
    "    # Get the best Random Forest model with the best parameters\n",
    "    best_rf_model = grid_search.best_estimator_\n",
    "\n",
    "    return best_rf_model"
   ]
  },
  {
   "cell_type": "code",
   "execution_count": null,
   "metadata": {
    "colab": {
     "base_uri": "https://localhost:8080/"
    },
    "id": "1ygnG-7U_guc",
    "outputId": "2c341ee9-5eb6-4555-b200-8f4addaaf877"
   },
   "outputs": [
    {
     "name": "stderr",
     "output_type": "stream",
     "text": [
      "/usr/local/lib/python3.10/dist-packages/sklearn/ensemble/_forest.py:424: FutureWarning: `max_features='auto'` has been deprecated in 1.1 and will be removed in 1.3. To keep the past behaviour, explicitly set `max_features='sqrt'` or remove this parameter as it is also the default value for RandomForestClassifiers and ExtraTreesClassifiers.\n",
      "  warn(\n",
      "/usr/local/lib/python3.10/dist-packages/sklearn/ensemble/_forest.py:424: FutureWarning: `max_features='auto'` has been deprecated in 1.1 and will be removed in 1.3. To keep the past behaviour, explicitly set `max_features='sqrt'` or remove this parameter as it is also the default value for RandomForestClassifiers and ExtraTreesClassifiers.\n",
      "  warn(\n"
     ]
    }
   ],
   "source": [
    "\n",
    "from sklearn.metrics import accuracy_score, precision_score, recall_score, f1_score\n",
    "from sklearn.model_selection import train_test_split\n",
    "\n",
    "# Split the training set into training and validation sets\n",
    "X_train, X_val, y_train, y_val = train_test_split(X_train, y_train, test_size=0.2, random_state=42)\n",
    "\n",
    "# Obtaining the best Random Forest model\n",
    "best_rf_model = random_forest_model(X_train, y_train.iloc[:,1])\n",
    "\n",
    "# Fitting the model on the training set\n",
    "best_rf_model.fit(X_train, y_train.iloc[:,1])\n",
    "\n",
    "# Obtaining predictions on the validation set\n",
    "y_pred_rf = best_rf_model.predict(X_val)\n"
   ]
  },
  {
   "cell_type": "code",
   "execution_count": null,
   "metadata": {
    "colab": {
     "base_uri": "https://localhost:8080/"
    },
    "id": "uNSE1lmR9yEl",
    "outputId": "d50833dc-e638-4e45-b412-10dac03cd476"
   },
   "outputs": [
    {
     "name": "stdout",
     "output_type": "stream",
     "text": [
      "Random Forest Model Metrics:\n",
      "Accuracy: 0.8143\n",
      "Precision: 0.7731\n",
      "Recall: 0.6510\n",
      "F1 Score: 0.6761\n"
     ]
    }
   ],
   "source": [
    "\n",
    "accuracy_rf = accuracy_score(y_val.iloc[:,1], y_pred_rf)\n",
    "precision_rf = precision_score(y_val.iloc[:,1], y_pred_rf, average ='macro')\n",
    "recall_rf = recall_score(y_val.iloc[:,1], y_pred_rf, average= 'macro')\n",
    "f1_rf = f1_score(y_val.iloc[:,1], y_pred_rf, average= 'macro')\n",
    "\n",
    "\n",
    "print(f\"Random Forest Model Metrics:\")\n",
    "print(f\"Accuracy: {accuracy_rf:.4f}\")\n",
    "print(f\"Precision: {precision_rf:.4f}\")\n",
    "print(f\"Recall: {recall_rf:.4f}\")\n",
    "print(f\"F1 Score: {f1_rf:.4f}\")"
   ]
  },
  {
   "cell_type": "code",
   "execution_count": null,
   "metadata": {
    "colab": {
     "base_uri": "https://localhost:8080/",
     "height": 718
    },
    "id": "X7mtOQ1B_guc",
    "outputId": "2b7af9e6-dfaa-4109-99d6-4ff0ce15380f"
   },
   "outputs": [
    {
     "data": {
      "image/png": "[encoded data removed]",
      "text/plain": [
       "<Figure size 800x800 with 1 Axes>"
      ]
     },
     "metadata": {},
     "output_type": "display_data"
    }
   ],
   "source": [
    "from sklearn.metrics import roc_curve, auc\n",
    "import matplotlib.pyplot as plt\n",
    "\n",
    "\n",
    "# Obtaining predicted probabilities for the positive class\n",
    "y_prob_rf = best_rf_model.predict_proba(X_val)[:,1]\n",
    "\n",
    "\n",
    "fpr_rf, tpr_rf, thresholds_rf = roc_curve(y_val.iloc[:,1], y_prob_rf)\n",
    "roc_auc_rf = auc(fpr_rf, tpr_rf)\n",
    "\n",
    "\n",
    "plt.figure(figsize=(8, 8))\n",
    "plt.plot(fpr_rf, tpr_rf, color='darkorange', lw=2, label=f'ROC curve (AUC = {roc_auc_rf:.2f})')\n",
    "plt.plot([0, 1], [0, 1], color='navy', lw=2, linestyle='--')\n",
    "plt.xlabel('False Positive Rate')\n",
    "plt.ylabel('True Positive Rate')\n",
    "plt.title('Random Forest ROC Curve')\n",
    "plt.legend(loc='lower right')\n",
    "plt.show()"
   ]
  },
  {
   "cell_type": "markdown",
   "metadata": {
    "id": "RIYIR7PX_guc"
   },
   "source": [
    "#### Evaluation of the 3 models\n",
    " First we need to decide which metric to evaluate the model performance. In this case, we are testing whether there will be a default or not, which often exhibits class imbalance, where the number of non-default instances is significantly higher than the number of default instances. In such scenarios, accuracy might be misleading as a metric because a model predicting all instances as non-default would still yield high accuracy. Also, failing to identify an actual default (false negative) can lead to substantial financial losses for the institution. Emphasizing on \"recall\" aims to minimize these false negatives. From the above three models, NN (Neural Network) with hyperparameter tuning has the highest recall rate, 0.68311, which will be chosen as our best-predicted model.\n",
    "\n",
    "To explain the performance of each model:\n",
    "* Neural Network: Performs well with overall high accuracy, precision, recall, and F1 score values.\n",
    "* Logistic Function: Although the accuracy and precision value seem to look fine, it has the lowest recall rate among all models, with only 0.3676, which won’t be chosen as a suitable model for predicting the default dataset.\n",
    "* Random Forest: Though it does not perform as well as the NN model, the recall rate is close to the best model. Since Random Forest ensembles a learning approach and features importance metrics, it can be robust to outliers.\n",
    "\n",
    "\n"
   ]
  },
  {
   "cell_type": "markdown",
   "metadata": {
    "id": "SLTYUUkg_guc"
   },
   "source": [
    "Using the best of the above 3 models, obtain predictions for the test set."
   ]
  },
  {
   "cell_type": "code",
   "execution_count": null,
   "metadata": {
    "id": "IvTaPY6XHH5a"
   },
   "outputs": [],
   "source": [
    "\n",
    "# WE ARE CHOOSING THE HYPERPAREMETRISED NEURAL NETWORK MODEL\n",
    "y_pred = best_model.predict(combined_df_test)\n",
    "y_pred\n",
    "y_pred = (y_pred > 0.5).astype(\"float64\").reshape(-1)"
   ]
  },
  {
   "cell_type": "markdown",
   "metadata": {
    "id": "gjp93bALy67U"
   },
   "source": [
    "\n",
    "\n",
    "---\n",
    "\n"
   ]
  }
 ],
 "metadata": {
  "colab": {
   "provenance": []
  },
  "kernelspec": {
   "display_name": "Python 3 (ipykernel)",
   "language": "python",
   "name": "python3"
  },
  "language_info": {
   "codemirror_mode": {
    "name": "ipython",
    "version": 3
   },
   "file_extension": ".py",
   "mimetype": "text/x-python",
   "name": "python",
   "nbconvert_exporter": "python",
   "pygments_lexer": "ipython3",
   "version": "3.11.4"
  }
 },
 "nbformat": 4,
 "nbformat_minor": 1
}
